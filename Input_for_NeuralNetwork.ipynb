{
  "nbformat": 4,
  "nbformat_minor": 0,
  "metadata": {
    "colab": {
      "name": "Input_for_NeuralNetwork.ipynb",
      "provenance": [],
      "authorship_tag": "ABX9TyMJcPMekCVdUmfnDjED6ZfK",
      "include_colab_link": true
    },
    "kernelspec": {
      "name": "python3",
      "display_name": "Python 3"
    },
    "language_info": {
      "name": "python"
    }
  },
  "cells": [
    {
      "cell_type": "markdown",
      "metadata": {
        "id": "view-in-github",
        "colab_type": "text"
      },
      "source": [
        "<a href=\"https://colab.research.google.com/github/abhishekmani12/Pytorch_Stuff/blob/main/Input_for_NeuralNetwork.ipynb\" target=\"_parent\"><img src=\"https://colab.research.google.com/assets/colab-badge.svg\" alt=\"Open In Colab\"/></a>"
      ]
    },
    {
      "cell_type": "markdown",
      "source": [
        "IMPORTS:"
      ],
      "metadata": {
        "id": "b1yx5O48nVN8"
      }
    },
    {
      "cell_type": "code",
      "execution_count": 1,
      "metadata": {
        "id": "kxx8Jub9j4cc"
      },
      "outputs": [],
      "source": [
        "import torch\n",
        "import torchvision #for vision tasks and image datasets\n",
        "from torchvision import transforms, datasets"
      ]
    },
    {
      "cell_type": "code",
      "source": [
        "import matplotlib.pyplot as plt\n",
        "from collections import Counter"
      ],
      "metadata": {
        "id": "qffcqRblrGIg"
      },
      "execution_count": 21,
      "outputs": []
    },
    {
      "cell_type": "markdown",
      "source": [
        "Train and Test Data:"
      ],
      "metadata": {
        "id": "MfPYxi5RnYKR"
      }
    },
    {
      "cell_type": "code",
      "source": [
        "#Downloading dataset, splitting and transforming from arr/PIL img to Tensor \n",
        "\n",
        "train=datasets.MNIST('',train=True, download=True,\n",
        "                     transform=transforms.Compose\n",
        "                     ([transforms.ToTensor()]))\n",
        "\n",
        "test=datasets.MNIST('',train=False,download=True,\n",
        "                    transform=transforms.Compose\n",
        "                    ([transforms.ToTensor()]))\n"
      ],
      "metadata": {
        "id": "Y8Qs2P9vkw6P"
      },
      "execution_count": 3,
      "outputs": []
    },
    {
      "cell_type": "markdown",
      "source": [
        "DataLoaders:"
      ],
      "metadata": {
        "id": "JWSGIBvKoQa8"
      }
    },
    {
      "cell_type": "code",
      "source": [
        "# creating an iterable dataloader and specifying batch size and shuffling\n",
        "\n",
        "trainset=torch.utils.data.DataLoader(train, batch_size=10, shuffle=True)\n",
        "\n",
        "testset=torch.utils.data.DataLoader(test, batch_size=10, shuffle=False)\n"
      ],
      "metadata": {
        "id": "syCgl5ZWkxKV"
      },
      "execution_count": 5,
      "outputs": []
    },
    {
      "cell_type": "markdown",
      "source": [
        "EDA:"
      ],
      "metadata": {
        "id": "lQjDT36bpqoi"
      }
    },
    {
      "cell_type": "code",
      "source": [
        "#iterating through data\n",
        "\n",
        "for i in trainset:\n",
        "  print(i)\n",
        "  break"
      ],
      "metadata": {
        "colab": {
          "base_uri": "https://localhost:8080/"
        },
        "id": "Kxol75dTkxba",
        "outputId": "8b9d8900-d712-434a-e3cc-f09653cb4d58"
      },
      "execution_count": 7,
      "outputs": [
        {
          "output_type": "stream",
          "name": "stdout",
          "text": [
            "[tensor([[[[0., 0., 0.,  ..., 0., 0., 0.],\n",
            "          [0., 0., 0.,  ..., 0., 0., 0.],\n",
            "          [0., 0., 0.,  ..., 0., 0., 0.],\n",
            "          ...,\n",
            "          [0., 0., 0.,  ..., 0., 0., 0.],\n",
            "          [0., 0., 0.,  ..., 0., 0., 0.],\n",
            "          [0., 0., 0.,  ..., 0., 0., 0.]]],\n",
            "\n",
            "\n",
            "        [[[0., 0., 0.,  ..., 0., 0., 0.],\n",
            "          [0., 0., 0.,  ..., 0., 0., 0.],\n",
            "          [0., 0., 0.,  ..., 0., 0., 0.],\n",
            "          ...,\n",
            "          [0., 0., 0.,  ..., 0., 0., 0.],\n",
            "          [0., 0., 0.,  ..., 0., 0., 0.],\n",
            "          [0., 0., 0.,  ..., 0., 0., 0.]]],\n",
            "\n",
            "\n",
            "        [[[0., 0., 0.,  ..., 0., 0., 0.],\n",
            "          [0., 0., 0.,  ..., 0., 0., 0.],\n",
            "          [0., 0., 0.,  ..., 0., 0., 0.],\n",
            "          ...,\n",
            "          [0., 0., 0.,  ..., 0., 0., 0.],\n",
            "          [0., 0., 0.,  ..., 0., 0., 0.],\n",
            "          [0., 0., 0.,  ..., 0., 0., 0.]]],\n",
            "\n",
            "\n",
            "        ...,\n",
            "\n",
            "\n",
            "        [[[0., 0., 0.,  ..., 0., 0., 0.],\n",
            "          [0., 0., 0.,  ..., 0., 0., 0.],\n",
            "          [0., 0., 0.,  ..., 0., 0., 0.],\n",
            "          ...,\n",
            "          [0., 0., 0.,  ..., 0., 0., 0.],\n",
            "          [0., 0., 0.,  ..., 0., 0., 0.],\n",
            "          [0., 0., 0.,  ..., 0., 0., 0.]]],\n",
            "\n",
            "\n",
            "        [[[0., 0., 0.,  ..., 0., 0., 0.],\n",
            "          [0., 0., 0.,  ..., 0., 0., 0.],\n",
            "          [0., 0., 0.,  ..., 0., 0., 0.],\n",
            "          ...,\n",
            "          [0., 0., 0.,  ..., 0., 0., 0.],\n",
            "          [0., 0., 0.,  ..., 0., 0., 0.],\n",
            "          [0., 0., 0.,  ..., 0., 0., 0.]]],\n",
            "\n",
            "\n",
            "        [[[0., 0., 0.,  ..., 0., 0., 0.],\n",
            "          [0., 0., 0.,  ..., 0., 0., 0.],\n",
            "          [0., 0., 0.,  ..., 0., 0., 0.],\n",
            "          ...,\n",
            "          [0., 0., 0.,  ..., 0., 0., 0.],\n",
            "          [0., 0., 0.,  ..., 0., 0., 0.],\n",
            "          [0., 0., 0.,  ..., 0., 0., 0.]]]]), tensor([9, 7, 5, 8, 2, 6, 4, 1, 7, 7])]\n"
          ]
        }
      ]
    },
    {
      "cell_type": "code",
      "source": [
        "#Printing the targets in a batch\n",
        "\n",
        "X,y=i[0][0],i[1][0]\n",
        "\n",
        "i[1] #i[0] will print the features"
      ],
      "metadata": {
        "colab": {
          "base_uri": "https://localhost:8080/"
        },
        "id": "Cz-9D8KXkxj2",
        "outputId": "9e52fa1a-364f-41c1-e9ec-b19e262cab0c"
      },
      "execution_count": 9,
      "outputs": [
        {
          "output_type": "execute_result",
          "data": {
            "text/plain": [
              "tensor([9, 7, 5, 8, 2, 6, 4, 1, 7, 7])"
            ]
          },
          "metadata": {},
          "execution_count": 9
        }
      ]
    },
    {
      "cell_type": "code",
      "source": [
        "#Displaying the 2nd image from the selected batch\n",
        "plt.imshow(i[0][1].view(28,28))\n",
        "plt.show()"
      ],
      "metadata": {
        "colab": {
          "base_uri": "https://localhost:8080/",
          "height": 265
        },
        "id": "6ycghV4MkxrX",
        "outputId": "b784d0a3-f1ee-4516-bbdc-40a6fd852847"
      },
      "execution_count": 13,
      "outputs": [
        {
          "output_type": "display_data",
          "data": {
            "text/plain": [
              "<Figure size 432x288 with 1 Axes>"
            ],
            "image/png": "[encoded data removed]"
          },
          "metadata": {
            "needs_background": "light"
          }
        }
      ]
    },
    {
      "cell_type": "code",
      "source": [
        "plt.imshow(i[0][3].view(28,28))\n",
        "plt.show()"
      ],
      "metadata": {
        "colab": {
          "base_uri": "https://localhost:8080/",
          "height": 265
        },
        "id": "cZPUtWa9uN0u",
        "outputId": "e3ed18ff-b7d7-4b8c-a0a2-fd73a1ab64da"
      },
      "execution_count": 20,
      "outputs": [
        {
          "output_type": "display_data",
          "data": {
            "text/plain": [
              "<Figure size 432x288 with 1 Axes>"
            ],
            "image/png": "[encoded data removed]"
          },
          "metadata": {
            "needs_background": "light"
          }
        }
      ]
    },
    {
      "cell_type": "markdown",
      "source": [
        "Scaling:"
      ],
      "metadata": {
        "id": "Nv7c5CwsspN3"
      }
    },
    {
      "cell_type": "code",
      "source": [
        "#Checking the tensor RGB values of the image to see if they are scaled between 0-1\n",
        "\n",
        "i[0][0][0][10]\n",
        "\n",
        "#as the values are between 0-1, they are scaled"
      ],
      "metadata": {
        "colab": {
          "base_uri": "https://localhost:8080/"
        },
        "id": "QczNqW6ikxyu",
        "outputId": "c1b9f605-19fe-4329-99e8-7d762ffaea44"
      },
      "execution_count": 18,
      "outputs": [
        {
          "output_type": "execute_result",
          "data": {
            "text/plain": [
              "tensor([0.0000, 0.0000, 0.0000, 0.0000, 0.0000, 0.0000, 0.0000, 0.0000, 0.0000,\n",
              "        0.5765, 0.9882, 0.9882, 0.8980, 0.5490, 0.1490, 0.0000, 0.0000, 0.0000,\n",
              "        0.0471, 0.6431, 0.9882, 0.1882, 0.0000, 0.0000, 0.0000, 0.0000, 0.0000,\n",
              "        0.0000])"
            ]
          },
          "metadata": {},
          "execution_count": 18
        }
      ]
    },
    {
      "cell_type": "markdown",
      "source": [
        "Balancing the dataset:"
      ],
      "metadata": {
        "id": "w97FTTOIt_oG"
      }
    },
    {
      "cell_type": "code",
      "source": [
        "#Seeing if the various classes of images in the dataset are somewhat equally balanced across\n",
        "\n",
        "#print(dict(Counter(train.targets)))\n",
        "\n",
        "counter={0:0, 1:0, 2:0, 3:0, 4:0, 5:0, 6:0, 7:0, 8:0, 9:0}\n",
        "\n",
        "total=0\n",
        "\n",
        "\n",
        "for data in trainset:\n",
        "    Xs, ys = data\n",
        "    for y in ys:\n",
        "        counter[int(y)] += 1\n",
        "        total += 1\n",
        "\n",
        "print(counter)\n",
        "\n",
        "#They are balanced"
      ],
      "metadata": {
        "colab": {
          "base_uri": "https://localhost:8080/"
        },
        "id": "cSIK09p3kx6F",
        "outputId": "1706965a-3c94-4b9d-81e6-0191512db4f6"
      },
      "execution_count": 26,
      "outputs": [
        {
          "output_type": "stream",
          "name": "stdout",
          "text": [
            "{0: 5923, 1: 6742, 2: 5958, 3: 6131, 4: 5842, 5: 5421, 6: 5918, 7: 6265, 8: 5851, 9: 5949}\n"
          ]
        }
      ]
    },
    {
      "cell_type": "code",
      "source": [
        ""
      ],
      "metadata": {
        "id": "pM_jrSqKkyBK"
      },
      "execution_count": null,
      "outputs": []
    }
  ]
}