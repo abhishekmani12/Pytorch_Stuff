{
  "nbformat": 4,
  "nbformat_minor": 0,
  "metadata": {
    "colab": {
      "provenance": [],
      "authorship_tag": "ABX9TyNXQqlbsr9JTHrfTEOjNGaj"
    },
    "kernelspec": {
      "name": "python3",
      "display_name": "Python 3"
    },
    "language_info": {
      "name": "python"
    },
    "widgets": {
      "application/vnd.jupyter.widget-state+json": {
        "077cc95e5deb441c941e649fc2c015aa": {
          "model_module": "@jupyter-widgets/controls",
          "model_name": "HBoxModel",
          "model_module_version": "1.5.0",
          "state": {
            "_dom_classes": [],
            "_model_module": "@jupyter-widgets/controls",
            "_model_module_version": "1.5.0",
            "_model_name": "HBoxModel",
            "_view_count": null,
            "_view_module": "@jupyter-widgets/controls",
            "_view_module_version": "1.5.0",
            "_view_name": "HBoxView",
            "box_style": "",
            "children": [
              "IPY_MODEL_0c7bbdd590f141719f4dc7019be60713",
              "IPY_MODEL_3dfadf6257164159ba5531c6f93c89e3",
              "IPY_MODEL_c74151fbc8f94faead1d53a9909ee753"
            ],
            "layout": "IPY_MODEL_40910b2e524845e68faad841d88c93a3"
          }
        },
        "0c7bbdd590f141719f4dc7019be60713": {
          "model_module": "@jupyter-widgets/controls",
          "model_name": "HTMLModel",
          "model_module_version": "1.5.0",
          "state": {
            "_dom_classes": [],
            "_model_module": "@jupyter-widgets/controls",
            "_model_module_version": "1.5.0",
            "_model_name": "HTMLModel",
            "_view_count": null,
            "_view_module": "@jupyter-widgets/controls",
            "_view_module_version": "1.5.0",
            "_view_name": "HTMLView",
            "description": "",
            "description_tooltip": null,
            "layout": "IPY_MODEL_e5dfd52e58bd49e2b2621f10e4081103",
            "placeholder": "​",
            "style": "IPY_MODEL_72e8a5a9690e4cff93e63550c2506948",
            "value": "100%"
          }
        },
        "3dfadf6257164159ba5531c6f93c89e3": {
          "model_module": "@jupyter-widgets/controls",
          "model_name": "FloatProgressModel",
          "model_module_version": "1.5.0",
          "state": {
            "_dom_classes": [],
            "_model_module": "@jupyter-widgets/controls",
            "_model_module_version": "1.5.0",
            "_model_name": "FloatProgressModel",
            "_view_count": null,
            "_view_module": "@jupyter-widgets/controls",
            "_view_module_version": "1.5.0",
            "_view_name": "ProgressView",
            "bar_style": "success",
            "description": "",
            "description_tooltip": null,
            "layout": "IPY_MODEL_cf85f6bb68e94492b88b1f726bc5032f",
            "max": 26421880,
            "min": 0,
            "orientation": "horizontal",
            "style": "IPY_MODEL_32f97eaf02894960af3c4c41b9b242ed",
            "value": 26421880
          }
        },
        "c74151fbc8f94faead1d53a9909ee753": {
          "model_module": "@jupyter-widgets/controls",
          "model_name": "HTMLModel",
          "model_module_version": "1.5.0",
          "state": {
            "_dom_classes": [],
            "_model_module": "@jupyter-widgets/controls",
            "_model_module_version": "1.5.0",
            "_model_name": "HTMLModel",
            "_view_count": null,
            "_view_module": "@jupyter-widgets/controls",
            "_view_module_version": "1.5.0",
            "_view_name": "HTMLView",
            "description": "",
            "description_tooltip": null,
            "layout": "IPY_MODEL_d5bab3d0ee714ead911f2cff7ea5d73c",
            "placeholder": "​",
            "style": "IPY_MODEL_decfc85b526d4fccbbbc645ebd29d2e6",
            "value": " 26421880/26421880 [00:01&lt;00:00, 25576505.48it/s]"
          }
        },
        "40910b2e524845e68faad841d88c93a3": {
          "model_module": "@jupyter-widgets/base",
          "model_name": "LayoutModel",
          "model_module_version": "1.2.0",
          "state": {
            "_model_module": "@jupyter-widgets/base",
            "_model_module_version": "1.2.0",
            "_model_name": "LayoutModel",
            "_view_count": null,
            "_view_module": "@jupyter-widgets/base",
            "_view_module_version": "1.2.0",
            "_view_name": "LayoutView",
            "align_content": null,
            "align_items": null,
            "align_self": null,
            "border": null,
            "bottom": null,
            "display": null,
            "flex": null,
            "flex_flow": null,
            "grid_area": null,
            "grid_auto_columns": null,
            "grid_auto_flow": null,
            "grid_auto_rows": null,
            "grid_column": null,
            "grid_gap": null,
            "grid_row": null,
            "grid_template_areas": null,
            "grid_template_columns": null,
            "grid_template_rows": null,
            "height": null,
            "justify_content": null,
            "justify_items": null,
            "left": null,
            "margin": null,
            "max_height": null,
            "max_width": null,
            "min_height": null,
            "min_width": null,
            "object_fit": null,
            "object_position": null,
            "order": null,
            "overflow": null,
            "overflow_x": null,
            "overflow_y": null,
            "padding": null,
            "right": null,
            "top": null,
            "visibility": null,
            "width": null
          }
        },
        "e5dfd52e58bd49e2b2621f10e4081103": {
          "model_module": "@jupyter-widgets/base",
          "model_name": "LayoutModel",
          "model_module_version": "1.2.0",
          "state": {
            "_model_module": "@jupyter-widgets/base",
            "_model_module_version": "1.2.0",
            "_model_name": "LayoutModel",
            "_view_count": null,
            "_view_module": "@jupyter-widgets/base",
            "_view_module_version": "1.2.0",
            "_view_name": "LayoutView",
            "align_content": null,
            "align_items": null,
            "align_self": null,
            "border": null,
            "bottom": null,
            "display": null,
            "flex": null,
            "flex_flow": null,
            "grid_area": null,
            "grid_auto_columns": null,
            "grid_auto_flow": null,
            "grid_auto_rows": null,
            "grid_column": null,
            "grid_gap": null,
            "grid_row": null,
            "grid_template_areas": null,
            "grid_template_columns": null,
            "grid_template_rows": null,
            "height": null,
            "justify_content": null,
            "justify_items": null,
            "left": null,
            "margin": null,
            "max_height": null,
            "max_width": null,
            "min_height": null,
            "min_width": null,
            "object_fit": null,
            "object_position": null,
            "order": null,
            "overflow": null,
            "overflow_x": null,
            "overflow_y": null,
            "padding": null,
            "right": null,
            "top": null,
            "visibility": null,
            "width": null
          }
        },
        "72e8a5a9690e4cff93e63550c2506948": {
          "model_module": "@jupyter-widgets/controls",
          "model_name": "DescriptionStyleModel",
          "model_module_version": "1.5.0",
          "state": {
            "_model_module": "@jupyter-widgets/controls",
            "_model_module_version": "1.5.0",
            "_model_name": "DescriptionStyleModel",
            "_view_count": null,
            "_view_module": "@jupyter-widgets/base",
            "_view_module_version": "1.2.0",
            "_view_name": "StyleView",
            "description_width": ""
          }
        },
        "cf85f6bb68e94492b88b1f726bc5032f": {
          "model_module": "@jupyter-widgets/base",
          "model_name": "LayoutModel",
          "model_module_version": "1.2.0",
          "state": {
            "_model_module": "@jupyter-widgets/base",
            "_model_module_version": "1.2.0",
            "_model_name": "LayoutModel",
            "_view_count": null,
            "_view_module": "@jupyter-widgets/base",
            "_view_module_version": "1.2.0",
            "_view_name": "LayoutView",
            "align_content": null,
            "align_items": null,
            "align_self": null,
            "border": null,
            "bottom": null,
            "display": null,
            "flex": null,
            "flex_flow": null,
            "grid_area": null,
            "grid_auto_columns": null,
            "grid_auto_flow": null,
            "grid_auto_rows": null,
            "grid_column": null,
            "grid_gap": null,
            "grid_row": null,
            "grid_template_areas": null,
            "grid_template_columns": null,
            "grid_template_rows": null,
            "height": null,
            "justify_content": null,
            "justify_items": null,
            "left": null,
            "margin": null,
            "max_height": null,
            "max_width": null,
            "min_height": null,
            "min_width": null,
            "object_fit": null,
            "object_position": null,
            "order": null,
            "overflow": null,
            "overflow_x": null,
            "overflow_y": null,
            "padding": null,
            "right": null,
            "top": null,
            "visibility": null,
            "width": null
          }
        },
        "32f97eaf02894960af3c4c41b9b242ed": {
          "model_module": "@jupyter-widgets/controls",
          "model_name": "ProgressStyleModel",
          "model_module_version": "1.5.0",
          "state": {
            "_model_module": "@jupyter-widgets/controls",
            "_model_module_version": "1.5.0",
            "_model_name": "ProgressStyleModel",
            "_view_count": null,
            "_view_module": "@jupyter-widgets/base",
            "_view_module_version": "1.2.0",
            "_view_name": "StyleView",
            "bar_color": null,
            "description_width": ""
          }
        },
        "d5bab3d0ee714ead911f2cff7ea5d73c": {
          "model_module": "@jupyter-widgets/base",
          "model_name": "LayoutModel",
          "model_module_version": "1.2.0",
          "state": {
            "_model_module": "@jupyter-widgets/base",
            "_model_module_version": "1.2.0",
            "_model_name": "LayoutModel",
            "_view_count": null,
            "_view_module": "@jupyter-widgets/base",
            "_view_module_version": "1.2.0",
            "_view_name": "LayoutView",
            "align_content": null,
            "align_items": null,
            "align_self": null,
            "border": null,
            "bottom": null,
            "display": null,
            "flex": null,
            "flex_flow": null,
            "grid_area": null,
            "grid_auto_columns": null,
            "grid_auto_flow": null,
            "grid_auto_rows": null,
            "grid_column": null,
            "grid_gap": null,
            "grid_row": null,
            "grid_template_areas": null,
            "grid_template_columns": null,
            "grid_template_rows": null,
            "height": null,
            "justify_content": null,
            "justify_items": null,
            "left": null,
            "margin": null,
            "max_height": null,
            "max_width": null,
            "min_height": null,
            "min_width": null,
            "object_fit": null,
            "object_position": null,
            "order": null,
            "overflow": null,
            "overflow_x": null,
            "overflow_y": null,
            "padding": null,
            "right": null,
            "top": null,
            "visibility": null,
            "width": null
          }
        },
        "decfc85b526d4fccbbbc645ebd29d2e6": {
          "model_module": "@jupyter-widgets/controls",
          "model_name": "DescriptionStyleModel",
          "model_module_version": "1.5.0",
          "state": {
            "_model_module": "@jupyter-widgets/controls",
            "_model_module_version": "1.5.0",
            "_model_name": "DescriptionStyleModel",
            "_view_count": null,
            "_view_module": "@jupyter-widgets/base",
            "_view_module_version": "1.2.0",
            "_view_name": "StyleView",
            "description_width": ""
          }
        },
        "2bd5b01ed527499984a227a045981c5c": {
          "model_module": "@jupyter-widgets/controls",
          "model_name": "HBoxModel",
          "model_module_version": "1.5.0",
          "state": {
            "_dom_classes": [],
            "_model_module": "@jupyter-widgets/controls",
            "_model_module_version": "1.5.0",
            "_model_name": "HBoxModel",
            "_view_count": null,
            "_view_module": "@jupyter-widgets/controls",
            "_view_module_version": "1.5.0",
            "_view_name": "HBoxView",
            "box_style": "",
            "children": [
              "IPY_MODEL_1504866128c642faaf23cca0f94ca128",
              "IPY_MODEL_c4d04ee9dd4d48b38899cadf090c572f",
              "IPY_MODEL_3ea7aaa740804fc790123465216799ae"
            ],
            "layout": "IPY_MODEL_56a608db95d3499a836672beabfd69a0"
          }
        },
        "1504866128c642faaf23cca0f94ca128": {
          "model_module": "@jupyter-widgets/controls",
          "model_name": "HTMLModel",
          "model_module_version": "1.5.0",
          "state": {
            "_dom_classes": [],
            "_model_module": "@jupyter-widgets/controls",
            "_model_module_version": "1.5.0",
            "_model_name": "HTMLModel",
            "_view_count": null,
            "_view_module": "@jupyter-widgets/controls",
            "_view_module_version": "1.5.0",
            "_view_name": "HTMLView",
            "description": "",
            "description_tooltip": null,
            "layout": "IPY_MODEL_08568004dc724d8a83dab519cff3c508",
            "placeholder": "​",
            "style": "IPY_MODEL_9e2aee55c7c5402190169ace1d630ba3",
            "value": "100%"
          }
        },
        "c4d04ee9dd4d48b38899cadf090c572f": {
          "model_module": "@jupyter-widgets/controls",
          "model_name": "FloatProgressModel",
          "model_module_version": "1.5.0",
          "state": {
            "_dom_classes": [],
            "_model_module": "@jupyter-widgets/controls",
            "_model_module_version": "1.5.0",
            "_model_name": "FloatProgressModel",
            "_view_count": null,
            "_view_module": "@jupyter-widgets/controls",
            "_view_module_version": "1.5.0",
            "_view_name": "ProgressView",
            "bar_style": "success",
            "description": "",
            "description_tooltip": null,
            "layout": "IPY_MODEL_161969d6ecac4e2986b076308c522f8d",
            "max": 29515,
            "min": 0,
            "orientation": "horizontal",
            "style": "IPY_MODEL_01397924a79143eab5107968a4a6c0c9",
            "value": 29515
          }
        },
        "3ea7aaa740804fc790123465216799ae": {
          "model_module": "@jupyter-widgets/controls",
          "model_name": "HTMLModel",
          "model_module_version": "1.5.0",
          "state": {
            "_dom_classes": [],
            "_model_module": "@jupyter-widgets/controls",
            "_model_module_version": "1.5.0",
            "_model_name": "HTMLModel",
            "_view_count": null,
            "_view_module": "@jupyter-widgets/controls",
            "_view_module_version": "1.5.0",
            "_view_name": "HTMLView",
            "description": "",
            "description_tooltip": null,
            "layout": "IPY_MODEL_d62ede21d4664f979e8a8df2751efb26",
            "placeholder": "​",
            "style": "IPY_MODEL_94d34723c0254290ac88ca8b2b232968",
            "value": " 29515/29515 [00:00&lt;00:00, 272381.97it/s]"
          }
        },
        "56a608db95d3499a836672beabfd69a0": {
          "model_module": "@jupyter-widgets/base",
          "model_name": "LayoutModel",
          "model_module_version": "1.2.0",
          "state": {
            "_model_module": "@jupyter-widgets/base",
            "_model_module_version": "1.2.0",
            "_model_name": "LayoutModel",
            "_view_count": null,
            "_view_module": "@jupyter-widgets/base",
            "_view_module_version": "1.2.0",
            "_view_name": "LayoutView",
            "align_content": null,
            "align_items": null,
            "align_self": null,
            "border": null,
            "bottom": null,
            "display": null,
            "flex": null,
            "flex_flow": null,
            "grid_area": null,
            "grid_auto_columns": null,
            "grid_auto_flow": null,
            "grid_auto_rows": null,
            "grid_column": null,
            "grid_gap": null,
            "grid_row": null,
            "grid_template_areas": null,
            "grid_template_columns": null,
            "grid_template_rows": null,
            "height": null,
            "justify_content": null,
            "justify_items": null,
            "left": null,
            "margin": null,
            "max_height": null,
            "max_width": null,
            "min_height": null,
            "min_width": null,
            "object_fit": null,
            "object_position": null,
            "order": null,
            "overflow": null,
            "overflow_x": null,
            "overflow_y": null,
            "padding": null,
            "right": null,
            "top": null,
            "visibility": null,
            "width": null
          }
        },
        "08568004dc724d8a83dab519cff3c508": {
          "model_module": "@jupyter-widgets/base",
          "model_name": "LayoutModel",
          "model_module_version": "1.2.0",
          "state": {
            "_model_module": "@jupyter-widgets/base",
            "_model_module_version": "1.2.0",
            "_model_name": "LayoutModel",
            "_view_count": null,
            "_view_module": "@jupyter-widgets/base",
            "_view_module_version": "1.2.0",
            "_view_name": "LayoutView",
            "align_content": null,
            "align_items": null,
            "align_self": null,
            "border": null,
            "bottom": null,
            "display": null,
            "flex": null,
            "flex_flow": null,
            "grid_area": null,
            "grid_auto_columns": null,
            "grid_auto_flow": null,
            "grid_auto_rows": null,
            "grid_column": null,
            "grid_gap": null,
            "grid_row": null,
            "grid_template_areas": null,
            "grid_template_columns": null,
            "grid_template_rows": null,
            "height": null,
            "justify_content": null,
            "justify_items": null,
            "left": null,
            "margin": null,
            "max_height": null,
            "max_width": null,
            "min_height": null,
            "min_width": null,
            "object_fit": null,
            "object_position": null,
            "order": null,
            "overflow": null,
            "overflow_x": null,
            "overflow_y": null,
            "padding": null,
            "right": null,
            "top": null,
            "visibility": null,
            "width": null
          }
        },
        "9e2aee55c7c5402190169ace1d630ba3": {
          "model_module": "@jupyter-widgets/controls",
          "model_name": "DescriptionStyleModel",
          "model_module_version": "1.5.0",
          "state": {
            "_model_module": "@jupyter-widgets/controls",
            "_model_module_version": "1.5.0",
            "_model_name": "DescriptionStyleModel",
            "_view_count": null,
            "_view_module": "@jupyter-widgets/base",
            "_view_module_version": "1.2.0",
            "_view_name": "StyleView",
            "description_width": ""
          }
        },
        "161969d6ecac4e2986b076308c522f8d": {
          "model_module": "@jupyter-widgets/base",
          "model_name": "LayoutModel",
          "model_module_version": "1.2.0",
          "state": {
            "_model_module": "@jupyter-widgets/base",
            "_model_module_version": "1.2.0",
            "_model_name": "LayoutModel",
            "_view_count": null,
            "_view_module": "@jupyter-widgets/base",
            "_view_module_version": "1.2.0",
            "_view_name": "LayoutView",
            "align_content": null,
            "align_items": null,
            "align_self": null,
            "border": null,
            "bottom": null,
            "display": null,
            "flex": null,
            "flex_flow": null,
            "grid_area": null,
            "grid_auto_columns": null,
            "grid_auto_flow": null,
            "grid_auto_rows": null,
            "grid_column": null,
            "grid_gap": null,
            "grid_row": null,
            "grid_template_areas": null,
            "grid_template_columns": null,
            "grid_template_rows": null,
            "height": null,
            "justify_content": null,
            "justify_items": null,
            "left": null,
            "margin": null,
            "max_height": null,
            "max_width": null,
            "min_height": null,
            "min_width": null,
            "object_fit": null,
            "object_position": null,
            "order": null,
            "overflow": null,
            "overflow_x": null,
            "overflow_y": null,
            "padding": null,
            "right": null,
            "top": null,
            "visibility": null,
            "width": null
          }
        },
        "01397924a79143eab5107968a4a6c0c9": {
          "model_module": "@jupyter-widgets/controls",
          "model_name": "ProgressStyleModel",
          "model_module_version": "1.5.0",
          "state": {
            "_model_module": "@jupyter-widgets/controls",
            "_model_module_version": "1.5.0",
            "_model_name": "ProgressStyleModel",
            "_view_count": null,
            "_view_module": "@jupyter-widgets/base",
            "_view_module_version": "1.2.0",
            "_view_name": "StyleView",
            "bar_color": null,
            "description_width": ""
          }
        },
        "d62ede21d4664f979e8a8df2751efb26": {
          "model_module": "@jupyter-widgets/base",
          "model_name": "LayoutModel",
          "model_module_version": "1.2.0",
          "state": {
            "_model_module": "@jupyter-widgets/base",
            "_model_module_version": "1.2.0",
            "_model_name": "LayoutModel",
            "_view_count": null,
            "_view_module": "@jupyter-widgets/base",
            "_view_module_version": "1.2.0",
            "_view_name": "LayoutView",
            "align_content": null,
            "align_items": null,
            "align_self": null,
            "border": null,
            "bottom": null,
            "display": null,
            "flex": null,
            "flex_flow": null,
            "grid_area": null,
            "grid_auto_columns": null,
            "grid_auto_flow": null,
            "grid_auto_rows": null,
            "grid_column": null,
            "grid_gap": null,
            "grid_row": null,
            "grid_template_areas": null,
            "grid_template_columns": null,
            "grid_template_rows": null,
            "height": null,
            "justify_content": null,
            "justify_items": null,
            "left": null,
            "margin": null,
            "max_height": null,
            "max_width": null,
            "min_height": null,
            "min_width": null,
            "object_fit": null,
            "object_position": null,
            "order": null,
            "overflow": null,
            "overflow_x": null,
            "overflow_y": null,
            "padding": null,
            "right": null,
            "top": null,
            "visibility": null,
            "width": null
          }
        },
        "94d34723c0254290ac88ca8b2b232968": {
          "model_module": "@jupyter-widgets/controls",
          "model_name": "DescriptionStyleModel",
          "model_module_version": "1.5.0",
          "state": {
            "_model_module": "@jupyter-widgets/controls",
            "_model_module_version": "1.5.0",
            "_model_name": "DescriptionStyleModel",
            "_view_count": null,
            "_view_module": "@jupyter-widgets/base",
            "_view_module_version": "1.2.0",
            "_view_name": "StyleView",
            "description_width": ""
          }
        },
        "bd629c0d44fa4bd2916b2d138953a431": {
          "model_module": "@jupyter-widgets/controls",
          "model_name": "HBoxModel",
          "model_module_version": "1.5.0",
          "state": {
            "_dom_classes": [],
            "_model_module": "@jupyter-widgets/controls",
            "_model_module_version": "1.5.0",
            "_model_name": "HBoxModel",
            "_view_count": null,
            "_view_module": "@jupyter-widgets/controls",
            "_view_module_version": "1.5.0",
            "_view_name": "HBoxView",
            "box_style": "",
            "children": [
              "IPY_MODEL_4e9679b557a04d8290dfdcaff9f7adbc",
              "IPY_MODEL_02ecc77c9c214b499b7e2dcd00236d1b",
              "IPY_MODEL_95d318a1c8bb48c5aa53227494690bdb"
            ],
            "layout": "IPY_MODEL_627278686cad4d4694c897607623328f"
          }
        },
        "4e9679b557a04d8290dfdcaff9f7adbc": {
          "model_module": "@jupyter-widgets/controls",
          "model_name": "HTMLModel",
          "model_module_version": "1.5.0",
          "state": {
            "_dom_classes": [],
            "_model_module": "@jupyter-widgets/controls",
            "_model_module_version": "1.5.0",
            "_model_name": "HTMLModel",
            "_view_count": null,
            "_view_module": "@jupyter-widgets/controls",
            "_view_module_version": "1.5.0",
            "_view_name": "HTMLView",
            "description": "",
            "description_tooltip": null,
            "layout": "IPY_MODEL_f22a88aa029a4403bdfb03356d610141",
            "placeholder": "​",
            "style": "IPY_MODEL_4b99ca899a4d4e07b657ea18b1f44ef8",
            "value": "100%"
          }
        },
        "02ecc77c9c214b499b7e2dcd00236d1b": {
          "model_module": "@jupyter-widgets/controls",
          "model_name": "FloatProgressModel",
          "model_module_version": "1.5.0",
          "state": {
            "_dom_classes": [],
            "_model_module": "@jupyter-widgets/controls",
            "_model_module_version": "1.5.0",
            "_model_name": "FloatProgressModel",
            "_view_count": null,
            "_view_module": "@jupyter-widgets/controls",
            "_view_module_version": "1.5.0",
            "_view_name": "ProgressView",
            "bar_style": "success",
            "description": "",
            "description_tooltip": null,
            "layout": "IPY_MODEL_6f622414892d4cf0bb54fc979eee1bbc",
            "max": 4422102,
            "min": 0,
            "orientation": "horizontal",
            "style": "IPY_MODEL_4a0adb4cba1e40389bdb588066287efb",
            "value": 4422102
          }
        },
        "95d318a1c8bb48c5aa53227494690bdb": {
          "model_module": "@jupyter-widgets/controls",
          "model_name": "HTMLModel",
          "model_module_version": "1.5.0",
          "state": {
            "_dom_classes": [],
            "_model_module": "@jupyter-widgets/controls",
            "_model_module_version": "1.5.0",
            "_model_name": "HTMLModel",
            "_view_count": null,
            "_view_module": "@jupyter-widgets/controls",
            "_view_module_version": "1.5.0",
            "_view_name": "HTMLView",
            "description": "",
            "description_tooltip": null,
            "layout": "IPY_MODEL_efa4310cdc974d1e867348850104a638",
            "placeholder": "​",
            "style": "IPY_MODEL_82d226e9e1cd41239a35fed291807cc2",
            "value": " 4422102/4422102 [00:00&lt;00:00, 8444175.67it/s]"
          }
        },
        "627278686cad4d4694c897607623328f": {
          "model_module": "@jupyter-widgets/base",
          "model_name": "LayoutModel",
          "model_module_version": "1.2.0",
          "state": {
            "_model_module": "@jupyter-widgets/base",
            "_model_module_version": "1.2.0",
            "_model_name": "LayoutModel",
            "_view_count": null,
            "_view_module": "@jupyter-widgets/base",
            "_view_module_version": "1.2.0",
            "_view_name": "LayoutView",
            "align_content": null,
            "align_items": null,
            "align_self": null,
            "border": null,
            "bottom": null,
            "display": null,
            "flex": null,
            "flex_flow": null,
            "grid_area": null,
            "grid_auto_columns": null,
            "grid_auto_flow": null,
            "grid_auto_rows": null,
            "grid_column": null,
            "grid_gap": null,
            "grid_row": null,
            "grid_template_areas": null,
            "grid_template_columns": null,
            "grid_template_rows": null,
            "height": null,
            "justify_content": null,
            "justify_items": null,
            "left": null,
            "margin": null,
            "max_height": null,
            "max_width": null,
            "min_height": null,
            "min_width": null,
            "object_fit": null,
            "object_position": null,
            "order": null,
            "overflow": null,
            "overflow_x": null,
            "overflow_y": null,
            "padding": null,
            "right": null,
            "top": null,
            "visibility": null,
            "width": null
          }
        },
        "f22a88aa029a4403bdfb03356d610141": {
          "model_module": "@jupyter-widgets/base",
          "model_name": "LayoutModel",
          "model_module_version": "1.2.0",
          "state": {
            "_model_module": "@jupyter-widgets/base",
            "_model_module_version": "1.2.0",
            "_model_name": "LayoutModel",
            "_view_count": null,
            "_view_module": "@jupyter-widgets/base",
            "_view_module_version": "1.2.0",
            "_view_name": "LayoutView",
            "align_content": null,
            "align_items": null,
            "align_self": null,
            "border": null,
            "bottom": null,
            "display": null,
            "flex": null,
            "flex_flow": null,
            "grid_area": null,
            "grid_auto_columns": null,
            "grid_auto_flow": null,
            "grid_auto_rows": null,
            "grid_column": null,
            "grid_gap": null,
            "grid_row": null,
            "grid_template_areas": null,
            "grid_template_columns": null,
            "grid_template_rows": null,
            "height": null,
            "justify_content": null,
            "justify_items": null,
            "left": null,
            "margin": null,
            "max_height": null,
            "max_width": null,
            "min_height": null,
            "min_width": null,
            "object_fit": null,
            "object_position": null,
            "order": null,
            "overflow": null,
            "overflow_x": null,
            "overflow_y": null,
            "padding": null,
            "right": null,
            "top": null,
            "visibility": null,
            "width": null
          }
        },
        "4b99ca899a4d4e07b657ea18b1f44ef8": {
          "model_module": "@jupyter-widgets/controls",
          "model_name": "DescriptionStyleModel",
          "model_module_version": "1.5.0",
          "state": {
            "_model_module": "@jupyter-widgets/controls",
            "_model_module_version": "1.5.0",
            "_model_name": "DescriptionStyleModel",
            "_view_count": null,
            "_view_module": "@jupyter-widgets/base",
            "_view_module_version": "1.2.0",
            "_view_name": "StyleView",
            "description_width": ""
          }
        },
        "6f622414892d4cf0bb54fc979eee1bbc": {
          "model_module": "@jupyter-widgets/base",
          "model_name": "LayoutModel",
          "model_module_version": "1.2.0",
          "state": {
            "_model_module": "@jupyter-widgets/base",
            "_model_module_version": "1.2.0",
            "_model_name": "LayoutModel",
            "_view_count": null,
            "_view_module": "@jupyter-widgets/base",
            "_view_module_version": "1.2.0",
            "_view_name": "LayoutView",
            "align_content": null,
            "align_items": null,
            "align_self": null,
            "border": null,
            "bottom": null,
            "display": null,
            "flex": null,
            "flex_flow": null,
            "grid_area": null,
            "grid_auto_columns": null,
            "grid_auto_flow": null,
            "grid_auto_rows": null,
            "grid_column": null,
            "grid_gap": null,
            "grid_row": null,
            "grid_template_areas": null,
            "grid_template_columns": null,
            "grid_template_rows": null,
            "height": null,
            "justify_content": null,
            "justify_items": null,
            "left": null,
            "margin": null,
            "max_height": null,
            "max_width": null,
            "min_height": null,
            "min_width": null,
            "object_fit": null,
            "object_position": null,
            "order": null,
            "overflow": null,
            "overflow_x": null,
            "overflow_y": null,
            "padding": null,
            "right": null,
            "top": null,
            "visibility": null,
            "width": null
          }
        },
        "4a0adb4cba1e40389bdb588066287efb": {
          "model_module": "@jupyter-widgets/controls",
          "model_name": "ProgressStyleModel",
          "model_module_version": "1.5.0",
          "state": {
            "_model_module": "@jupyter-widgets/controls",
            "_model_module_version": "1.5.0",
            "_model_name": "ProgressStyleModel",
            "_view_count": null,
            "_view_module": "@jupyter-widgets/base",
            "_view_module_version": "1.2.0",
            "_view_name": "StyleView",
            "bar_color": null,
            "description_width": ""
          }
        },
        "efa4310cdc974d1e867348850104a638": {
          "model_module": "@jupyter-widgets/base",
          "model_name": "LayoutModel",
          "model_module_version": "1.2.0",
          "state": {
            "_model_module": "@jupyter-widgets/base",
            "_model_module_version": "1.2.0",
            "_model_name": "LayoutModel",
            "_view_count": null,
            "_view_module": "@jupyter-widgets/base",
            "_view_module_version": "1.2.0",
            "_view_name": "LayoutView",
            "align_content": null,
            "align_items": null,
            "align_self": null,
            "border": null,
            "bottom": null,
            "display": null,
            "flex": null,
            "flex_flow": null,
            "grid_area": null,
            "grid_auto_columns": null,
            "grid_auto_flow": null,
            "grid_auto_rows": null,
            "grid_column": null,
            "grid_gap": null,
            "grid_row": null,
            "grid_template_areas": null,
            "grid_template_columns": null,
            "grid_template_rows": null,
            "height": null,
            "justify_content": null,
            "justify_items": null,
            "left": null,
            "margin": null,
            "max_height": null,
            "max_width": null,
            "min_height": null,
            "min_width": null,
            "object_fit": null,
            "object_position": null,
            "order": null,
            "overflow": null,
            "overflow_x": null,
            "overflow_y": null,
            "padding": null,
            "right": null,
            "top": null,
            "visibility": null,
            "width": null
          }
        },
        "82d226e9e1cd41239a35fed291807cc2": {
          "model_module": "@jupyter-widgets/controls",
          "model_name": "DescriptionStyleModel",
          "model_module_version": "1.5.0",
          "state": {
            "_model_module": "@jupyter-widgets/controls",
            "_model_module_version": "1.5.0",
            "_model_name": "DescriptionStyleModel",
            "_view_count": null,
            "_view_module": "@jupyter-widgets/base",
            "_view_module_version": "1.2.0",
            "_view_name": "StyleView",
            "description_width": ""
          }
        },
        "3fd9fe492aba407fa8362a0018617382": {
          "model_module": "@jupyter-widgets/controls",
          "model_name": "HBoxModel",
          "model_module_version": "1.5.0",
          "state": {
            "_dom_classes": [],
            "_model_module": "@jupyter-widgets/controls",
            "_model_module_version": "1.5.0",
            "_model_name": "HBoxModel",
            "_view_count": null,
            "_view_module": "@jupyter-widgets/controls",
            "_view_module_version": "1.5.0",
            "_view_name": "HBoxView",
            "box_style": "",
            "children": [
              "IPY_MODEL_3bbb5ca34cf84025b1385e4715695e05",
              "IPY_MODEL_bcaa5741d54d4389bdf119789e7e7c71",
              "IPY_MODEL_c25454f532bc4b368c605d3a557180ff"
            ],
            "layout": "IPY_MODEL_a69c782047c24acbab9d87f405c6c3e1"
          }
        },
        "3bbb5ca34cf84025b1385e4715695e05": {
          "model_module": "@jupyter-widgets/controls",
          "model_name": "HTMLModel",
          "model_module_version": "1.5.0",
          "state": {
            "_dom_classes": [],
            "_model_module": "@jupyter-widgets/controls",
            "_model_module_version": "1.5.0",
            "_model_name": "HTMLModel",
            "_view_count": null,
            "_view_module": "@jupyter-widgets/controls",
            "_view_module_version": "1.5.0",
            "_view_name": "HTMLView",
            "description": "",
            "description_tooltip": null,
            "layout": "IPY_MODEL_8975a4d72daa4d7b9e60c8f6ebda571c",
            "placeholder": "​",
            "style": "IPY_MODEL_c000abc07adb40bb859545b6accaf5a2",
            "value": "100%"
          }
        },
        "bcaa5741d54d4389bdf119789e7e7c71": {
          "model_module": "@jupyter-widgets/controls",
          "model_name": "FloatProgressModel",
          "model_module_version": "1.5.0",
          "state": {
            "_dom_classes": [],
            "_model_module": "@jupyter-widgets/controls",
            "_model_module_version": "1.5.0",
            "_model_name": "FloatProgressModel",
            "_view_count": null,
            "_view_module": "@jupyter-widgets/controls",
            "_view_module_version": "1.5.0",
            "_view_name": "ProgressView",
            "bar_style": "success",
            "description": "",
            "description_tooltip": null,
            "layout": "IPY_MODEL_80f247dd0c014f3682b992dea471ef86",
            "max": 5148,
            "min": 0,
            "orientation": "horizontal",
            "style": "IPY_MODEL_4c3ca9bdb4244764b21f223aebe2ee88",
            "value": 5148
          }
        },
        "c25454f532bc4b368c605d3a557180ff": {
          "model_module": "@jupyter-widgets/controls",
          "model_name": "HTMLModel",
          "model_module_version": "1.5.0",
          "state": {
            "_dom_classes": [],
            "_model_module": "@jupyter-widgets/controls",
            "_model_module_version": "1.5.0",
            "_model_name": "HTMLModel",
            "_view_count": null,
            "_view_module": "@jupyter-widgets/controls",
            "_view_module_version": "1.5.0",
            "_view_name": "HTMLView",
            "description": "",
            "description_tooltip": null,
            "layout": "IPY_MODEL_a65c92f02323479a99c943a047ea9089",
            "placeholder": "​",
            "style": "IPY_MODEL_1b8bdf6890fb4063978db5c8129fdf66",
            "value": " 5148/5148 [00:00&lt;00:00, 184325.66it/s]"
          }
        },
        "a69c782047c24acbab9d87f405c6c3e1": {
          "model_module": "@jupyter-widgets/base",
          "model_name": "LayoutModel",
          "model_module_version": "1.2.0",
          "state": {
            "_model_module": "@jupyter-widgets/base",
            "_model_module_version": "1.2.0",
            "_model_name": "LayoutModel",
            "_view_count": null,
            "_view_module": "@jupyter-widgets/base",
            "_view_module_version": "1.2.0",
            "_view_name": "LayoutView",
            "align_content": null,
            "align_items": null,
            "align_self": null,
            "border": null,
            "bottom": null,
            "display": null,
            "flex": null,
            "flex_flow": null,
            "grid_area": null,
            "grid_auto_columns": null,
            "grid_auto_flow": null,
            "grid_auto_rows": null,
            "grid_column": null,
            "grid_gap": null,
            "grid_row": null,
            "grid_template_areas": null,
            "grid_template_columns": null,
            "grid_template_rows": null,
            "height": null,
            "justify_content": null,
            "justify_items": null,
            "left": null,
            "margin": null,
            "max_height": null,
            "max_width": null,
            "min_height": null,
            "min_width": null,
            "object_fit": null,
            "object_position": null,
            "order": null,
            "overflow": null,
            "overflow_x": null,
            "overflow_y": null,
            "padding": null,
            "right": null,
            "top": null,
            "visibility": null,
            "width": null
          }
        },
        "8975a4d72daa4d7b9e60c8f6ebda571c": {
          "model_module": "@jupyter-widgets/base",
          "model_name": "LayoutModel",
          "model_module_version": "1.2.0",
          "state": {
            "_model_module": "@jupyter-widgets/base",
            "_model_module_version": "1.2.0",
            "_model_name": "LayoutModel",
            "_view_count": null,
            "_view_module": "@jupyter-widgets/base",
            "_view_module_version": "1.2.0",
            "_view_name": "LayoutView",
            "align_content": null,
            "align_items": null,
            "align_self": null,
            "border": null,
            "bottom": null,
            "display": null,
            "flex": null,
            "flex_flow": null,
            "grid_area": null,
            "grid_auto_columns": null,
            "grid_auto_flow": null,
            "grid_auto_rows": null,
            "grid_column": null,
            "grid_gap": null,
            "grid_row": null,
            "grid_template_areas": null,
            "grid_template_columns": null,
            "grid_template_rows": null,
            "height": null,
            "justify_content": null,
            "justify_items": null,
            "left": null,
            "margin": null,
            "max_height": null,
            "max_width": null,
            "min_height": null,
            "min_width": null,
            "object_fit": null,
            "object_position": null,
            "order": null,
            "overflow": null,
            "overflow_x": null,
            "overflow_y": null,
            "padding": null,
            "right": null,
            "top": null,
            "visibility": null,
            "width": null
          }
        },
        "c000abc07adb40bb859545b6accaf5a2": {
          "model_module": "@jupyter-widgets/controls",
          "model_name": "DescriptionStyleModel",
          "model_module_version": "1.5.0",
          "state": {
            "_model_module": "@jupyter-widgets/controls",
            "_model_module_version": "1.5.0",
            "_model_name": "DescriptionStyleModel",
            "_view_count": null,
            "_view_module": "@jupyter-widgets/base",
            "_view_module_version": "1.2.0",
            "_view_name": "StyleView",
            "description_width": ""
          }
        },
        "80f247dd0c014f3682b992dea471ef86": {
          "model_module": "@jupyter-widgets/base",
          "model_name": "LayoutModel",
          "model_module_version": "1.2.0",
          "state": {
            "_model_module": "@jupyter-widgets/base",
            "_model_module_version": "1.2.0",
            "_model_name": "LayoutModel",
            "_view_count": null,
            "_view_module": "@jupyter-widgets/base",
            "_view_module_version": "1.2.0",
            "_view_name": "LayoutView",
            "align_content": null,
            "align_items": null,
            "align_self": null,
            "border": null,
            "bottom": null,
            "display": null,
            "flex": null,
            "flex_flow": null,
            "grid_area": null,
            "grid_auto_columns": null,
            "grid_auto_flow": null,
            "grid_auto_rows": null,
            "grid_column": null,
            "grid_gap": null,
            "grid_row": null,
            "grid_template_areas": null,
            "grid_template_columns": null,
            "grid_template_rows": null,
            "height": null,
            "justify_content": null,
            "justify_items": null,
            "left": null,
            "margin": null,
            "max_height": null,
            "max_width": null,
            "min_height": null,
            "min_width": null,
            "object_fit": null,
            "object_position": null,
            "order": null,
            "overflow": null,
            "overflow_x": null,
            "overflow_y": null,
            "padding": null,
            "right": null,
            "top": null,
            "visibility": null,
            "width": null
          }
        },
        "4c3ca9bdb4244764b21f223aebe2ee88": {
          "model_module": "@jupyter-widgets/controls",
          "model_name": "ProgressStyleModel",
          "model_module_version": "1.5.0",
          "state": {
            "_model_module": "@jupyter-widgets/controls",
            "_model_module_version": "1.5.0",
            "_model_name": "ProgressStyleModel",
            "_view_count": null,
            "_view_module": "@jupyter-widgets/base",
            "_view_module_version": "1.2.0",
            "_view_name": "StyleView",
            "bar_color": null,
            "description_width": ""
          }
        },
        "a65c92f02323479a99c943a047ea9089": {
          "model_module": "@jupyter-widgets/base",
          "model_name": "LayoutModel",
          "model_module_version": "1.2.0",
          "state": {
            "_model_module": "@jupyter-widgets/base",
            "_model_module_version": "1.2.0",
            "_model_name": "LayoutModel",
            "_view_count": null,
            "_view_module": "@jupyter-widgets/base",
            "_view_module_version": "1.2.0",
            "_view_name": "LayoutView",
            "align_content": null,
            "align_items": null,
            "align_self": null,
            "border": null,
            "bottom": null,
            "display": null,
            "flex": null,
            "flex_flow": null,
            "grid_area": null,
            "grid_auto_columns": null,
            "grid_auto_flow": null,
            "grid_auto_rows": null,
            "grid_column": null,
            "grid_gap": null,
            "grid_row": null,
            "grid_template_areas": null,
            "grid_template_columns": null,
            "grid_template_rows": null,
            "height": null,
            "justify_content": null,
            "justify_items": null,
            "left": null,
            "margin": null,
            "max_height": null,
            "max_width": null,
            "min_height": null,
            "min_width": null,
            "object_fit": null,
            "object_position": null,
            "order": null,
            "overflow": null,
            "overflow_x": null,
            "overflow_y": null,
            "padding": null,
            "right": null,
            "top": null,
            "visibility": null,
            "width": null
          }
        },
        "1b8bdf6890fb4063978db5c8129fdf66": {
          "model_module": "@jupyter-widgets/controls",
          "model_name": "DescriptionStyleModel",
          "model_module_version": "1.5.0",
          "state": {
            "_model_module": "@jupyter-widgets/controls",
            "_model_module_version": "1.5.0",
            "_model_name": "DescriptionStyleModel",
            "_view_count": null,
            "_view_module": "@jupyter-widgets/base",
            "_view_module_version": "1.2.0",
            "_view_name": "StyleView",
            "description_width": ""
          }
        }
      }
    },
    "accelerator": "GPU",
    "gpuClass": "standard"
  },
  "cells": [
    {
      "cell_type": "code",
      "execution_count": 1,
      "metadata": {
        "id": "gTWvf-WKo2v-",
        "colab": {
          "base_uri": "https://localhost:8080/"
        },
        "outputId": "281a4e6f-5536-4efb-80b1-dfd1f3582977"
      },
      "outputs": [
        {
          "output_type": "stream",
          "name": "stdout",
          "text": [
            "\u001b[?25l\r\u001b[K     |▋                               | 10 kB 24.6 MB/s eta 0:00:01\r\u001b[K     |█▎                              | 20 kB 6.8 MB/s eta 0:00:01\r\u001b[K     |██                              | 30 kB 9.8 MB/s eta 0:00:01\r\u001b[K     |██▋                             | 40 kB 4.1 MB/s eta 0:00:01\r\u001b[K     |███▏                            | 51 kB 4.2 MB/s eta 0:00:01\r\u001b[K     |███▉                            | 61 kB 5.0 MB/s eta 0:00:01\r\u001b[K     |████▌                           | 71 kB 5.4 MB/s eta 0:00:01\r\u001b[K     |█████▏                          | 81 kB 5.4 MB/s eta 0:00:01\r\u001b[K     |█████▊                          | 92 kB 6.0 MB/s eta 0:00:01\r\u001b[K     |██████▍                         | 102 kB 4.8 MB/s eta 0:00:01\r\u001b[K     |███████                         | 112 kB 4.8 MB/s eta 0:00:01\r\u001b[K     |███████▊                        | 122 kB 4.8 MB/s eta 0:00:01\r\u001b[K     |████████▎                       | 133 kB 4.8 MB/s eta 0:00:01\r\u001b[K     |█████████                       | 143 kB 4.8 MB/s eta 0:00:01\r\u001b[K     |█████████▋                      | 153 kB 4.8 MB/s eta 0:00:01\r\u001b[K     |██████████▎                     | 163 kB 4.8 MB/s eta 0:00:01\r\u001b[K     |██████████▉                     | 174 kB 4.8 MB/s eta 0:00:01\r\u001b[K     |███████████▌                    | 184 kB 4.8 MB/s eta 0:00:01\r\u001b[K     |████████████▏                   | 194 kB 4.8 MB/s eta 0:00:01\r\u001b[K     |████████████▉                   | 204 kB 4.8 MB/s eta 0:00:01\r\u001b[K     |█████████████▍                  | 215 kB 4.8 MB/s eta 0:00:01\r\u001b[K     |██████████████                  | 225 kB 4.8 MB/s eta 0:00:01\r\u001b[K     |██████████████▊                 | 235 kB 4.8 MB/s eta 0:00:01\r\u001b[K     |███████████████▍                | 245 kB 4.8 MB/s eta 0:00:01\r\u001b[K     |████████████████                | 256 kB 4.8 MB/s eta 0:00:01\r\u001b[K     |████████████████▋               | 266 kB 4.8 MB/s eta 0:00:01\r\u001b[K     |█████████████████▎              | 276 kB 4.8 MB/s eta 0:00:01\r\u001b[K     |██████████████████              | 286 kB 4.8 MB/s eta 0:00:01\r\u001b[K     |██████████████████▌             | 296 kB 4.8 MB/s eta 0:00:01\r\u001b[K     |███████████████████▏            | 307 kB 4.8 MB/s eta 0:00:01\r\u001b[K     |███████████████████▉            | 317 kB 4.8 MB/s eta 0:00:01\r\u001b[K     |████████████████████▌           | 327 kB 4.8 MB/s eta 0:00:01\r\u001b[K     |█████████████████████           | 337 kB 4.8 MB/s eta 0:00:01\r\u001b[K     |█████████████████████▊          | 348 kB 4.8 MB/s eta 0:00:01\r\u001b[K     |██████████████████████▍         | 358 kB 4.8 MB/s eta 0:00:01\r\u001b[K     |███████████████████████         | 368 kB 4.8 MB/s eta 0:00:01\r\u001b[K     |███████████████████████▋        | 378 kB 4.8 MB/s eta 0:00:01\r\u001b[K     |████████████████████████▎       | 389 kB 4.8 MB/s eta 0:00:01\r\u001b[K     |█████████████████████████       | 399 kB 4.8 MB/s eta 0:00:01\r\u001b[K     |█████████████████████████▋      | 409 kB 4.8 MB/s eta 0:00:01\r\u001b[K     |██████████████████████████▏     | 419 kB 4.8 MB/s eta 0:00:01\r\u001b[K     |██████████████████████████▉     | 430 kB 4.8 MB/s eta 0:00:01\r\u001b[K     |███████████████████████████▌    | 440 kB 4.8 MB/s eta 0:00:01\r\u001b[K     |████████████████████████████▏   | 450 kB 4.8 MB/s eta 0:00:01\r\u001b[K     |████████████████████████████▉   | 460 kB 4.8 MB/s eta 0:00:01\r\u001b[K     |█████████████████████████████▍  | 471 kB 4.8 MB/s eta 0:00:01\r\u001b[K     |██████████████████████████████  | 481 kB 4.8 MB/s eta 0:00:01\r\u001b[K     |██████████████████████████████▊ | 491 kB 4.8 MB/s eta 0:00:01\r\u001b[K     |███████████████████████████████▍| 501 kB 4.8 MB/s eta 0:00:01\r\u001b[K     |████████████████████████████████| 512 kB 4.8 MB/s eta 0:00:01\r\u001b[K     |████████████████████████████████| 512 kB 4.8 MB/s \n",
            "\u001b[?25h"
          ]
        }
      ],
      "source": [
        "import torch\n",
        "from torch import nn\n",
        "\n",
        "import torchvision\n",
        "from torchvision import datasets\n",
        "from torchvision.transforms import ToTensor\n",
        "import matplotlib.pyplot as plt\n",
        "\n",
        "!pip -q install torchmetrics\n",
        "from torchmetrics import Accuracy\n",
        "\n",
        "device=\"cuda\" if torch.cuda.is_available() else \"cpu\"\n",
        "\n",
        "import tqdm as tqdm"
      ]
    },
    {
      "cell_type": "markdown",
      "source": [
        "**Data:**"
      ],
      "metadata": {
        "id": "zPTKV8Wruu-y"
      }
    },
    {
      "cell_type": "code",
      "source": [
        "train_data=datasets.FashionMNIST( root=\"/content/Dataset\",\n",
        "                                 train=True,\n",
        "                                 download=True,\n",
        "                                 transform=ToTensor(),\n",
        "                                 target_transform=None)\n",
        "\n",
        "test_data=datasets.FashionMNIST( root=\"/content/Dataset\",\n",
        "                                train=False,\n",
        "                                download=True,\n",
        "                                transform=ToTensor(),\n",
        "                                target_transform=None)\n"
      ],
      "metadata": {
        "colab": {
          "base_uri": "https://localhost:8080/",
          "height": 439,
          "referenced_widgets": [
            "077cc95e5deb441c941e649fc2c015aa",
            "0c7bbdd590f141719f4dc7019be60713",
            "3dfadf6257164159ba5531c6f93c89e3",
            "c74151fbc8f94faead1d53a9909ee753",
            "40910b2e524845e68faad841d88c93a3",
            "e5dfd52e58bd49e2b2621f10e4081103",
            "72e8a5a9690e4cff93e63550c2506948",
            "cf85f6bb68e94492b88b1f726bc5032f",
            "32f97eaf02894960af3c4c41b9b242ed",
            "d5bab3d0ee714ead911f2cff7ea5d73c",
            "decfc85b526d4fccbbbc645ebd29d2e6",
            "2bd5b01ed527499984a227a045981c5c",
            "1504866128c642faaf23cca0f94ca128",
            "c4d04ee9dd4d48b38899cadf090c572f",
            "3ea7aaa740804fc790123465216799ae",
            "56a608db95d3499a836672beabfd69a0",
            "08568004dc724d8a83dab519cff3c508",
            "9e2aee55c7c5402190169ace1d630ba3",
            "161969d6ecac4e2986b076308c522f8d",
            "01397924a79143eab5107968a4a6c0c9",
            "d62ede21d4664f979e8a8df2751efb26",
            "94d34723c0254290ac88ca8b2b232968",
            "bd629c0d44fa4bd2916b2d138953a431",
            "4e9679b557a04d8290dfdcaff9f7adbc",
            "02ecc77c9c214b499b7e2dcd00236d1b",
            "95d318a1c8bb48c5aa53227494690bdb",
            "627278686cad4d4694c897607623328f",
            "f22a88aa029a4403bdfb03356d610141",
            "4b99ca899a4d4e07b657ea18b1f44ef8",
            "6f622414892d4cf0bb54fc979eee1bbc",
            "4a0adb4cba1e40389bdb588066287efb",
            "efa4310cdc974d1e867348850104a638",
            "82d226e9e1cd41239a35fed291807cc2",
            "3fd9fe492aba407fa8362a0018617382",
            "3bbb5ca34cf84025b1385e4715695e05",
            "bcaa5741d54d4389bdf119789e7e7c71",
            "c25454f532bc4b368c605d3a557180ff",
            "a69c782047c24acbab9d87f405c6c3e1",
            "8975a4d72daa4d7b9e60c8f6ebda571c",
            "c000abc07adb40bb859545b6accaf5a2",
            "80f247dd0c014f3682b992dea471ef86",
            "4c3ca9bdb4244764b21f223aebe2ee88",
            "a65c92f02323479a99c943a047ea9089",
            "1b8bdf6890fb4063978db5c8129fdf66"
          ]
        },
        "id": "qNjonemwpmZM",
        "outputId": "4698e286-4ec8-430e-c747-e9c3d132cf9a"
      },
      "execution_count": 2,
      "outputs": [
        {
          "output_type": "stream",
          "name": "stdout",
          "text": [
            "Downloading http://fashion-mnist.s3-website.eu-central-1.amazonaws.com/train-images-idx3-ubyte.gz\n",
            "Downloading http://fashion-mnist.s3-website.eu-central-1.amazonaws.com/train-images-idx3-ubyte.gz to /content/Dataset/FashionMNIST/raw/train-images-idx3-ubyte.gz\n"
          ]
        },
        {
          "output_type": "display_data",
          "data": {
            "text/plain": [
              "  0%|          | 0/26421880 [00:00<?, ?it/s]"
            ],
            "application/vnd.jupyter.widget-view+json": {
              "version_major": 2,
              "version_minor": 0,
              "model_id": "077cc95e5deb441c941e649fc2c015aa"
            }
          },
          "metadata": {}
        },
        {
          "output_type": "stream",
          "name": "stdout",
          "text": [
            "Extracting /content/Dataset/FashionMNIST/raw/train-images-idx3-ubyte.gz to /content/Dataset/FashionMNIST/raw\n",
            "\n",
            "Downloading http://fashion-mnist.s3-website.eu-central-1.amazonaws.com/train-labels-idx1-ubyte.gz\n",
            "Downloading http://fashion-mnist.s3-website.eu-central-1.amazonaws.com/train-labels-idx1-ubyte.gz to /content/Dataset/FashionMNIST/raw/train-labels-idx1-ubyte.gz\n"
          ]
        },
        {
          "output_type": "display_data",
          "data": {
            "text/plain": [
              "  0%|          | 0/29515 [00:00<?, ?it/s]"
            ],
            "application/vnd.jupyter.widget-view+json": {
              "version_major": 2,
              "version_minor": 0,
              "model_id": "2bd5b01ed527499984a227a045981c5c"
            }
          },
          "metadata": {}
        },
        {
          "output_type": "stream",
          "name": "stdout",
          "text": [
            "Extracting /content/Dataset/FashionMNIST/raw/train-labels-idx1-ubyte.gz to /content/Dataset/FashionMNIST/raw\n",
            "\n",
            "Downloading http://fashion-mnist.s3-website.eu-central-1.amazonaws.com/t10k-images-idx3-ubyte.gz\n",
            "Downloading http://fashion-mnist.s3-website.eu-central-1.amazonaws.com/t10k-images-idx3-ubyte.gz to /content/Dataset/FashionMNIST/raw/t10k-images-idx3-ubyte.gz\n"
          ]
        },
        {
          "output_type": "display_data",
          "data": {
            "text/plain": [
              "  0%|          | 0/4422102 [00:00<?, ?it/s]"
            ],
            "application/vnd.jupyter.widget-view+json": {
              "version_major": 2,
              "version_minor": 0,
              "model_id": "bd629c0d44fa4bd2916b2d138953a431"
            }
          },
          "metadata": {}
        },
        {
          "output_type": "stream",
          "name": "stdout",
          "text": [
            "Extracting /content/Dataset/FashionMNIST/raw/t10k-images-idx3-ubyte.gz to /content/Dataset/FashionMNIST/raw\n",
            "\n",
            "Downloading http://fashion-mnist.s3-website.eu-central-1.amazonaws.com/t10k-labels-idx1-ubyte.gz\n",
            "Downloading http://fashion-mnist.s3-website.eu-central-1.amazonaws.com/t10k-labels-idx1-ubyte.gz to /content/Dataset/FashionMNIST/raw/t10k-labels-idx1-ubyte.gz\n"
          ]
        },
        {
          "output_type": "display_data",
          "data": {
            "text/plain": [
              "  0%|          | 0/5148 [00:00<?, ?it/s]"
            ],
            "application/vnd.jupyter.widget-view+json": {
              "version_major": 2,
              "version_minor": 0,
              "model_id": "3fd9fe492aba407fa8362a0018617382"
            }
          },
          "metadata": {}
        },
        {
          "output_type": "stream",
          "name": "stdout",
          "text": [
            "Extracting /content/Dataset/FashionMNIST/raw/t10k-labels-idx1-ubyte.gz to /content/Dataset/FashionMNIST/raw\n",
            "\n"
          ]
        }
      ]
    },
    {
      "cell_type": "code",
      "source": [
        "img, label=train_data[0]\n",
        "\n",
        "img.shape, label"
      ],
      "metadata": {
        "colab": {
          "base_uri": "https://localhost:8080/"
        },
        "id": "hRo-mgripmnD",
        "outputId": "19af83db-9f12-4de6-dfc6-11483b42f2ca"
      },
      "execution_count": 3,
      "outputs": [
        {
          "output_type": "execute_result",
          "data": {
            "text/plain": [
              "(torch.Size([1, 28, 28]), 9)"
            ]
          },
          "metadata": {},
          "execution_count": 3
        }
      ]
    },
    {
      "cell_type": "code",
      "source": [
        "train_data.classes"
      ],
      "metadata": {
        "colab": {
          "base_uri": "https://localhost:8080/"
        },
        "id": "l77No4T7po0u",
        "outputId": "4b0ea477-e7af-48b4-8ff3-dfac0bd9e659"
      },
      "execution_count": 4,
      "outputs": [
        {
          "output_type": "execute_result",
          "data": {
            "text/plain": [
              "['T-shirt/top',\n",
              " 'Trouser',\n",
              " 'Pullover',\n",
              " 'Dress',\n",
              " 'Coat',\n",
              " 'Sandal',\n",
              " 'Shirt',\n",
              " 'Sneaker',\n",
              " 'Bag',\n",
              " 'Ankle boot']"
            ]
          },
          "metadata": {},
          "execution_count": 4
        }
      ]
    },
    {
      "cell_type": "code",
      "source": [
        "len(train_data.data), len(test_data.data)"
      ],
      "metadata": {
        "colab": {
          "base_uri": "https://localhost:8080/"
        },
        "id": "jSPZhL4bpor9",
        "outputId": "f4ebd529-be87-49f8-ac6d-ada8f99d8f3a"
      },
      "execution_count": 5,
      "outputs": [
        {
          "output_type": "execute_result",
          "data": {
            "text/plain": [
              "(60000, 10000)"
            ]
          },
          "metadata": {},
          "execution_count": 5
        }
      ]
    },
    {
      "cell_type": "code",
      "source": [
        "fig=plt.figure(figsize=(12,10))\n",
        "rows, cols=3,3\n",
        "for i in range(1, rows * cols + 1):\n",
        "\n",
        "    random_idx = torch.randint(0, len(train_data), size=[1]).item()\n",
        "    img, label = train_data[random_idx]\n",
        "    fig.add_subplot(rows, cols, i)\n",
        "    plt.imshow(img.squeeze(), cmap=\"gray\")\n",
        "    plt.title(train_data.classes[label])\n",
        "    plt.axis(False);"
      ],
      "metadata": {
        "colab": {
          "base_uri": "https://localhost:8080/",
          "height": 591
        },
        "id": "KUMer72_po9t",
        "outputId": "02170158-0b9f-4472-bd4c-ec4d7b374b65"
      },
      "execution_count": 6,
      "outputs": [
        {
          "output_type": "display_data",
          "data": {
            "text/plain": [
              "<Figure size 864x720 with 9 Axes>"
            ],
            "image/png": "[encoded data removed]"
          },
          "metadata": {
            "needs_background": "light"
          }
        }
      ]
    },
    {
      "cell_type": "markdown",
      "source": [
        "**DataLoader:**"
      ],
      "metadata": {
        "id": "nCOVjTHK0UTb"
      }
    },
    {
      "cell_type": "code",
      "source": [
        "from torch.utils.data import DataLoader\n",
        "\n",
        "#creating mini batches, gd will be comp for multiple times in an epoch for every mini batch\n",
        "batchsize=32\n",
        "\n",
        "train_dataloader=DataLoader(train_data, batch_size=batchsize, shuffle=True)\n",
        "\n",
        "test_dataloader=DataLoader(test_data, batch_size=batchsize, shuffle=False)"
      ],
      "metadata": {
        "id": "7Wn0pNmKppFq"
      },
      "execution_count": 7,
      "outputs": []
    },
    {
      "cell_type": "code",
      "source": [
        "len(train_dataloader), len(test_dataloader)"
      ],
      "metadata": {
        "colab": {
          "base_uri": "https://localhost:8080/"
        },
        "id": "QrthgKJTppNz",
        "outputId": "ebaae077-3e63-4d71-9dec-a3b359cf1d83"
      },
      "execution_count": 8,
      "outputs": [
        {
          "output_type": "execute_result",
          "data": {
            "text/plain": [
              "(1875, 313)"
            ]
          },
          "metadata": {},
          "execution_count": 8
        }
      ]
    },
    {
      "cell_type": "markdown",
      "source": [
        "**Model - TinyVGG:**\n",
        "\n",
        "input -> [conv -> ReLU -> conv -> ReLU -> MaxPool]^2 -> FFC -> output"
      ],
      "metadata": {
        "id": "0kfOBsAN25s9"
      }
    },
    {
      "cell_type": "code",
      "source": [
        "class cnnmodel(nn.Module):\n",
        "\n",
        "  def __init__(self, input, output, hidden_units):\n",
        "\n",
        "    super().__init__()\n",
        "\n",
        "    self.stack1=nn.Sequential(\n",
        "        \n",
        "        nn.Conv2d(in_channels=input, out_channels=hidden_units, kernel_size=3, stride=1, padding=1),\n",
        "        nn.ReLU(),\n",
        "        nn.Conv2d(in_channels=hidden_units, out_channels=hidden_units, kernel_size=3, stride=1, padding=1),\n",
        "        nn.ReLU(),\n",
        "        nn.MaxPool2d(kernel_size=2, stride=2)\n",
        "    )\n",
        "\n",
        "    self.stack2=nn.Sequential(\n",
        "        \n",
        "        nn.Conv2d(in_channels=hidden_units, out_channels=hidden_units, kernel_size=3, stride=1, padding=1),\n",
        "        nn.ReLU(),\n",
        "        nn.Conv2d(in_channels=hidden_units, out_channels=hidden_units, kernel_size=3, stride=1, padding=1),\n",
        "        nn.ReLU(),\n",
        "        nn.MaxPool2d(kernel_size=2, stride=2)\n",
        "    )\n",
        "\n",
        "    self.classifier=nn.Sequential(\n",
        "        nn.Flatten(),\n",
        "        nn.Linear(in_features=hidden_units*7*7, out_features=output)\n",
        "    )\n",
        "\n",
        "  def forward(self, x: torch.Tensor):\n",
        "\n",
        "    return self.classifier(self.stack2(self.stack1(x)))\n",
        "  "
      ],
      "metadata": {
        "id": "P--hH5j7ppV-"
      },
      "execution_count": 9,
      "outputs": []
    },
    {
      "cell_type": "code",
      "source": [
        "torch.manual_seed(42)\n",
        "model1=cnnmodel(input=1, output=len(train_data.classes), hidden_units=10).to(device)\n",
        "model1"
      ],
      "metadata": {
        "colab": {
          "base_uri": "https://localhost:8080/"
        },
        "id": "-M9Mz-If689S",
        "outputId": "d063a490-1499-4251-ecf4-f354efddf951"
      },
      "execution_count": 10,
      "outputs": [
        {
          "output_type": "execute_result",
          "data": {
            "text/plain": [
              "cnnmodel(\n",
              "  (stack1): Sequential(\n",
              "    (0): Conv2d(1, 10, kernel_size=(3, 3), stride=(1, 1), padding=(1, 1))\n",
              "    (1): ReLU()\n",
              "    (2): Conv2d(10, 10, kernel_size=(3, 3), stride=(1, 1), padding=(1, 1))\n",
              "    (3): ReLU()\n",
              "    (4): MaxPool2d(kernel_size=2, stride=2, padding=0, dilation=1, ceil_mode=False)\n",
              "  )\n",
              "  (stack2): Sequential(\n",
              "    (0): Conv2d(10, 10, kernel_size=(3, 3), stride=(1, 1), padding=(1, 1))\n",
              "    (1): ReLU()\n",
              "    (2): Conv2d(10, 10, kernel_size=(3, 3), stride=(1, 1), padding=(1, 1))\n",
              "    (3): ReLU()\n",
              "    (4): MaxPool2d(kernel_size=2, stride=2, padding=0, dilation=1, ceil_mode=False)\n",
              "  )\n",
              "  (classifier): Sequential(\n",
              "    (0): Flatten(start_dim=1, end_dim=-1)\n",
              "    (1): Linear(in_features=490, out_features=10, bias=True)\n",
              "  )\n",
              ")"
            ]
          },
          "metadata": {},
          "execution_count": 10
        }
      ]
    },
    {
      "cell_type": "markdown",
      "source": [
        "**loss function and optimizer:**"
      ],
      "metadata": {
        "id": "V6CT8xYf_JcK"
      }
    },
    {
      "cell_type": "code",
      "source": [
        "CELloss=nn.CrossEntropyLoss()\n",
        "optimizer=torch.optim.SGD(model1.parameters(), lr=0.1)"
      ],
      "metadata": {
        "id": "jJBxwfQo_NYI"
      },
      "execution_count": 11,
      "outputs": []
    },
    {
      "cell_type": "markdown",
      "source": [
        "**Training and Testing Loop:**"
      ],
      "metadata": {
        "id": "D7TBr2QV_kpi"
      }
    },
    {
      "cell_type": "code",
      "source": [
        "def traintest(model, epochs, train_dataloader, test_dataloader):\n",
        "  epochs=epochs\n",
        "  epoch_count=[]\n",
        "  train_loss_val=[]\n",
        "  test_loss_val=[]\n",
        "\n",
        "  accuracy=Accuracy(task=\"multiclass\", num_classes=len(train_data.classes)).to(device)\n",
        "\n",
        "  for epoch in range(epochs):\n",
        "    print(f\"EPOCH:{epoch} ---------------------------------------------------------\")\n",
        "    epoch_count.append(epoch)\n",
        "\n",
        "    #TRAIN:\n",
        "    model.train()\n",
        "    train_loss, train_acc=0,0\n",
        "\n",
        "    for x_train,y_train in train_dataloader:\n",
        "      x_train,y_train=x_train.to(device), y_train.to(device)\n",
        "\n",
        "      ypred_train=model(x_train)\n",
        "      trainloss=CELloss(ypred_train, y_train)\n",
        "      train_loss+=trainloss.detach().cpu().numpy()\n",
        "      train_acc+=accuracy(ypred_train.argmax(dim=1), y_train)\n",
        "\n",
        "      optimizer.zero_grad()\n",
        "      trainloss.backward()\n",
        "      optimizer.step()\n",
        "\n",
        "    train_loss /= len(train_dataloader)\n",
        "    train_acc /= len(train_dataloader)\n",
        "\n",
        "    train_loss_val.append(train_loss)\n",
        "    print(f\"Train loss: {train_loss:.5f} | Train accuracy: {train_acc*100:.2f}%\")\n",
        "\n",
        "\n",
        "    #TEST:\n",
        "    model1.eval()\n",
        "    with torch.inference_mode():\n",
        "      test_loss,test_acc=0,0\n",
        "\n",
        "      for x_test,y_test in test_dataloader:\n",
        "        x_test, y_test=x_test.to(device), y_test.to(device)\n",
        "        ypred_test=model1(x_test)\n",
        "        testloss=CELloss(ypred_test, y_test)\n",
        "\n",
        "        test_loss += testloss.detach().cpu().numpy()\n",
        "        test_acc +=accuracy(ypred_test.argmax(dim=1), y_test)\n",
        "\n",
        "      test_loss /= len(test_dataloader)\n",
        "      test_acc /= len(test_dataloader)\n",
        "\n",
        "      test_loss_val.append(test_loss) #.detach().numpy() on CPU\n",
        "      print(f\"Test loss: {test_loss:.5f} | Test accuracy: {test_acc*100:.2f}%\")\n",
        "\n",
        "  return epoch_count,train_loss_val, test_loss_val  \n",
        "\n",
        "\n",
        "epoch_count, train_loss_val, test_loss_val=traintest(model1, 6, train_dataloader, test_dataloader)"
      ],
      "metadata": {
        "colab": {
          "base_uri": "https://localhost:8080/"
        },
        "id": "TugVxF-8_int",
        "outputId": "2d735ff8-6d26-4217-8b1c-b79f5f194f96"
      },
      "execution_count": 12,
      "outputs": [
        {
          "output_type": "stream",
          "name": "stdout",
          "text": [
            "EPOCH:0 ---------------------------------------------------------\n",
            "Train loss: 0.57870 | Train accuracy: 79.06%\n",
            "Test loss: 0.39454 | Test accuracy: 85.33%\n",
            "EPOCH:1 ---------------------------------------------------------\n",
            "Train loss: 0.35548 | Train accuracy: 87.30%\n",
            "Test loss: 0.36028 | Test accuracy: 86.78%\n",
            "EPOCH:2 ---------------------------------------------------------\n",
            "Train loss: 0.31609 | Train accuracy: 88.49%\n",
            "Test loss: 0.33458 | Test accuracy: 88.06%\n",
            "EPOCH:3 ---------------------------------------------------------\n",
            "Train loss: 0.29470 | Train accuracy: 89.29%\n",
            "Test loss: 0.30908 | Test accuracy: 88.69%\n",
            "EPOCH:4 ---------------------------------------------------------\n",
            "Train loss: 0.28248 | Train accuracy: 89.81%\n",
            "Test loss: 0.31052 | Test accuracy: 88.67%\n",
            "EPOCH:5 ---------------------------------------------------------\n",
            "Train loss: 0.27233 | Train accuracy: 90.09%\n",
            "Test loss: 0.30442 | Test accuracy: 88.88%\n"
          ]
        }
      ]
    },
    {
      "cell_type": "code",
      "source": [
        "torch.manual_seed(42)\n",
        "model1=cnnmodel(input=1, output=len(train_data.classes), hidden_units=15).to(device)\n",
        "model1\n",
        "\n",
        "CELloss=nn.CrossEntropyLoss()\n",
        "optimizer=torch.optim.SGD(model1.parameters(), lr=0.1)\n",
        "\n",
        "epoch_count, train_loss_val, test_loss_val=traintest(model1, 7, train_dataloader, test_dataloader)"
      ],
      "metadata": {
        "colab": {
          "base_uri": "https://localhost:8080/"
        },
        "id": "BZ-f7aCfUdjm",
        "outputId": "e913622d-68c7-4ebf-94e8-8a43c894ac5f"
      },
      "execution_count": 13,
      "outputs": [
        {
          "output_type": "stream",
          "name": "stdout",
          "text": [
            "EPOCH:0 ---------------------------------------------------------\n",
            "Train loss: 0.62581 | Train accuracy: 77.23%\n",
            "Test loss: 0.43636 | Test accuracy: 83.45%\n",
            "EPOCH:1 ---------------------------------------------------------\n",
            "Train loss: 0.36112 | Train accuracy: 86.99%\n",
            "Test loss: 0.36253 | Test accuracy: 86.66%\n",
            "EPOCH:2 ---------------------------------------------------------\n",
            "Train loss: 0.31914 | Train accuracy: 88.39%\n",
            "Test loss: 0.30733 | Test accuracy: 89.02%\n",
            "EPOCH:3 ---------------------------------------------------------\n",
            "Train loss: 0.29284 | Train accuracy: 89.46%\n",
            "Test loss: 0.38756 | Test accuracy: 86.24%\n",
            "EPOCH:4 ---------------------------------------------------------\n",
            "Train loss: 0.27644 | Train accuracy: 90.11%\n",
            "Test loss: 0.30236 | Test accuracy: 88.98%\n",
            "EPOCH:5 ---------------------------------------------------------\n",
            "Train loss: 0.26481 | Train accuracy: 90.51%\n",
            "Test loss: 0.30764 | Test accuracy: 88.38%\n",
            "EPOCH:6 ---------------------------------------------------------\n",
            "Train loss: 0.25449 | Train accuracy: 90.88%\n",
            "Test loss: 0.28072 | Test accuracy: 89.80%\n"
          ]
        }
      ]
    },
    {
      "cell_type": "markdown",
      "source": [
        "**Plot Loss:**"
      ],
      "metadata": {
        "id": "yJ4_2XoSdXOW"
      }
    },
    {
      "cell_type": "code",
      "source": [
        "plt.figure(figsize=(15,10))\n",
        "\n",
        "plt.plot(epoch_count, train_loss_val, c=\"b\", label=\"Training Loss\")\n",
        "plt.plot(epoch_count, test_loss_val, c=\"r\", label=\"Testing Loss\")\n",
        "plt.xlabel(\"Epoch\")\n",
        "plt.ylabel(\"loss\")\n",
        "plt.legend()"
      ],
      "metadata": {
        "colab": {
          "base_uri": "https://localhost:8080/",
          "height": 624
        },
        "id": "RQ7GkLVSS1G-",
        "outputId": "aba74e1b-3230-42a6-fffc-8d05d5496885"
      },
      "execution_count": 14,
      "outputs": [
        {
          "output_type": "execute_result",
          "data": {
            "text/plain": [
              "<matplotlib.legend.Legend at 0x7f980737cc70>"
            ]
          },
          "metadata": {},
          "execution_count": 14
        },
        {
          "output_type": "display_data",
          "data": {
            "text/plain": [
              "<Figure size 1080x720 with 1 Axes>"
            ],
            "image/png": "[encoded data removed]"
          },
          "metadata": {
            "needs_background": "light"
          }
        }
      ]
    },
    {
      "cell_type": "markdown",
      "source": [
        "**Confusion Matrix:**"
      ],
      "metadata": {
        "id": "607oe_W8Twg8"
      }
    },
    {
      "cell_type": "code",
      "source": [
        "!pip install --upgrade --force-reinstall mlxtend\n",
        "import mlxtend"
      ],
      "metadata": {
        "colab": {
          "base_uri": "https://localhost:8080/",
          "height": 1000
        },
        "id": "nA23oGWqTwEU",
        "outputId": "d62472bb-a52d-4e99-f175-f4e3867a7b6a"
      },
      "execution_count": 15,
      "outputs": [
        {
          "output_type": "stream",
          "name": "stdout",
          "text": [
            "Looking in indexes: https://pypi.org/simple, https://us-python.pkg.dev/colab-wheels/public/simple/\n",
            "Collecting mlxtend\n",
            "  Downloading mlxtend-0.21.0-py2.py3-none-any.whl (1.3 MB)\n",
            "\u001b[K     |████████████████████████████████| 1.3 MB 4.9 MB/s \n",
            "\u001b[?25hCollecting pandas>=0.24.2\n",
            "  Downloading pandas-1.5.2-cp38-cp38-manylinux_2_17_x86_64.manylinux2014_x86_64.whl (12.2 MB)\n",
            "\u001b[K     |████████████████████████████████| 12.2 MB 47.2 MB/s \n",
            "\u001b[?25hCollecting setuptools\n",
            "  Downloading setuptools-65.6.3-py3-none-any.whl (1.2 MB)\n",
            "\u001b[K     |████████████████████████████████| 1.2 MB 60.2 MB/s \n",
            "\u001b[?25hCollecting scikit-learn>=1.0.2\n",
            "  Downloading scikit_learn-1.2.0-cp38-cp38-manylinux_2_17_x86_64.manylinux2014_x86_64.whl (9.7 MB)\n",
            "\u001b[K     |████████████████████████████████| 9.7 MB 52.7 MB/s \n",
            "\u001b[?25hCollecting numpy>=1.16.2\n",
            "  Downloading numpy-1.23.5-cp38-cp38-manylinux_2_17_x86_64.manylinux2014_x86_64.whl (17.1 MB)\n",
            "\u001b[K     |████████████████████████████████| 17.1 MB 54.6 MB/s \n",
            "\u001b[?25hCollecting scipy>=1.2.1\n",
            "  Downloading scipy-1.9.3-cp38-cp38-manylinux_2_17_x86_64.manylinux2014_x86_64.whl (33.8 MB)\n",
            "\u001b[K     |████████████████████████████████| 33.8 MB 112.2 MB/s \n",
            "\u001b[?25hCollecting joblib>=0.13.2\n",
            "  Downloading joblib-1.2.0-py3-none-any.whl (297 kB)\n",
            "\u001b[K     |████████████████████████████████| 297 kB 84.4 MB/s \n",
            "\u001b[?25hCollecting matplotlib>=3.0.0\n",
            "  Downloading matplotlib-3.6.2-cp38-cp38-manylinux_2_12_x86_64.manylinux2010_x86_64.whl (9.4 MB)\n",
            "\u001b[K     |████████████████████████████████| 9.4 MB 47.9 MB/s \n",
            "\u001b[?25hCollecting kiwisolver>=1.0.1\n",
            "  Downloading kiwisolver-1.4.4-cp38-cp38-manylinux_2_5_x86_64.manylinux1_x86_64.whl (1.2 MB)\n",
            "\u001b[K     |████████████████████████████████| 1.2 MB 65.8 MB/s \n",
            "\u001b[?25hCollecting packaging>=20.0\n",
            "  Downloading packaging-22.0-py3-none-any.whl (42 kB)\n",
            "\u001b[K     |████████████████████████████████| 42 kB 1.6 MB/s \n",
            "\u001b[?25hCollecting pyparsing>=2.2.1\n",
            "  Downloading pyparsing-3.0.9-py3-none-any.whl (98 kB)\n",
            "\u001b[K     |████████████████████████████████| 98 kB 10.3 MB/s \n",
            "\u001b[?25hCollecting cycler>=0.10\n",
            "  Downloading cycler-0.11.0-py3-none-any.whl (6.4 kB)\n",
            "Collecting python-dateutil>=2.7\n",
            "  Downloading python_dateutil-2.8.2-py2.py3-none-any.whl (247 kB)\n",
            "\u001b[K     |████████████████████████████████| 247 kB 80.7 MB/s \n",
            "\u001b[?25hCollecting pillow>=6.2.0\n",
            "  Downloading Pillow-9.3.0-cp38-cp38-manylinux_2_17_x86_64.manylinux2014_x86_64.whl (3.2 MB)\n",
            "\u001b[K     |████████████████████████████████| 3.2 MB 50.4 MB/s \n",
            "\u001b[?25hCollecting contourpy>=1.0.1\n",
            "  Downloading contourpy-1.0.6-cp38-cp38-manylinux_2_17_x86_64.manylinux2014_x86_64.whl (295 kB)\n",
            "\u001b[K     |████████████████████████████████| 295 kB 81.0 MB/s \n",
            "\u001b[?25hCollecting fonttools>=4.22.0\n",
            "  Downloading fonttools-4.38.0-py3-none-any.whl (965 kB)\n",
            "\u001b[K     |████████████████████████████████| 965 kB 68.2 MB/s \n",
            "\u001b[?25hCollecting pytz>=2020.1\n",
            "  Downloading pytz-2022.6-py2.py3-none-any.whl (498 kB)\n",
            "\u001b[K     |████████████████████████████████| 498 kB 78.3 MB/s \n",
            "\u001b[?25hCollecting six>=1.5\n",
            "  Downloading six-1.16.0-py2.py3-none-any.whl (11 kB)\n",
            "Collecting threadpoolctl>=2.0.0\n",
            "  Downloading threadpoolctl-3.1.0-py3-none-any.whl (14 kB)\n",
            "Installing collected packages: six, numpy, threadpoolctl, scipy, pytz, python-dateutil, pyparsing, pillow, packaging, kiwisolver, joblib, fonttools, cycler, contourpy, setuptools, scikit-learn, pandas, matplotlib, mlxtend\n",
            "  Attempting uninstall: six\n",
            "    Found existing installation: six 1.15.0\n",
            "    Uninstalling six-1.15.0:\n",
            "      Successfully uninstalled six-1.15.0\n",
            "  Attempting uninstall: numpy\n",
            "    Found existing installation: numpy 1.21.6\n",
            "    Uninstalling numpy-1.21.6:\n",
            "      Successfully uninstalled numpy-1.21.6\n",
            "  Attempting uninstall: threadpoolctl\n",
            "    Found existing installation: threadpoolctl 3.1.0\n",
            "    Uninstalling threadpoolctl-3.1.0:\n",
            "      Successfully uninstalled threadpoolctl-3.1.0\n",
            "  Attempting uninstall: scipy\n",
            "    Found existing installation: scipy 1.7.3\n",
            "    Uninstalling scipy-1.7.3:\n",
            "      Successfully uninstalled scipy-1.7.3\n",
            "  Attempting uninstall: pytz\n",
            "    Found existing installation: pytz 2022.6\n",
            "    Uninstalling pytz-2022.6:\n",
            "      Successfully uninstalled pytz-2022.6\n",
            "  Attempting uninstall: python-dateutil\n",
            "    Found existing installation: python-dateutil 2.8.2\n",
            "    Uninstalling python-dateutil-2.8.2:\n",
            "      Successfully uninstalled python-dateutil-2.8.2\n",
            "  Attempting uninstall: pyparsing\n",
            "    Found existing installation: pyparsing 3.0.9\n",
            "    Uninstalling pyparsing-3.0.9:\n",
            "      Successfully uninstalled pyparsing-3.0.9\n",
            "  Attempting uninstall: pillow\n",
            "    Found existing installation: Pillow 7.1.2\n",
            "    Uninstalling Pillow-7.1.2:\n",
            "      Successfully uninstalled Pillow-7.1.2\n",
            "  Attempting uninstall: packaging\n",
            "    Found existing installation: packaging 21.3\n",
            "    Uninstalling packaging-21.3:\n",
            "      Successfully uninstalled packaging-21.3\n",
            "  Attempting uninstall: kiwisolver\n",
            "    Found existing installation: kiwisolver 1.4.4\n",
            "    Uninstalling kiwisolver-1.4.4:\n",
            "      Successfully uninstalled kiwisolver-1.4.4\n",
            "  Attempting uninstall: joblib\n",
            "    Found existing installation: joblib 1.2.0\n",
            "    Uninstalling joblib-1.2.0:\n",
            "      Successfully uninstalled joblib-1.2.0\n",
            "  Attempting uninstall: cycler\n",
            "    Found existing installation: cycler 0.11.0\n",
            "    Uninstalling cycler-0.11.0:\n",
            "      Successfully uninstalled cycler-0.11.0\n",
            "  Attempting uninstall: setuptools\n",
            "    Found existing installation: setuptools 57.4.0\n",
            "    Uninstalling setuptools-57.4.0:\n",
            "      Successfully uninstalled setuptools-57.4.0\n",
            "  Attempting uninstall: scikit-learn\n",
            "    Found existing installation: scikit-learn 1.0.2\n",
            "    Uninstalling scikit-learn-1.0.2:\n",
            "      Successfully uninstalled scikit-learn-1.0.2\n",
            "  Attempting uninstall: pandas\n",
            "    Found existing installation: pandas 1.3.5\n",
            "    Uninstalling pandas-1.3.5:\n",
            "      Successfully uninstalled pandas-1.3.5\n",
            "  Attempting uninstall: matplotlib\n",
            "    Found existing installation: matplotlib 3.2.2\n",
            "    Uninstalling matplotlib-3.2.2:\n",
            "      Successfully uninstalled matplotlib-3.2.2\n",
            "  Attempting uninstall: mlxtend\n",
            "    Found existing installation: mlxtend 0.14.0\n",
            "    Uninstalling mlxtend-0.14.0:\n",
            "      Successfully uninstalled mlxtend-0.14.0\n",
            "\u001b[31mERROR: pip's dependency resolver does not currently take into account all the packages that are installed. This behaviour is the source of the following dependency conflicts.\n",
            "ipython 7.9.0 requires jedi>=0.10, which is not installed.\n",
            "google-cloud-bigquery 3.3.6 requires packaging<22.0.0dev,>=14.3, but you have packaging 22.0 which is incompatible.\u001b[0m\n",
            "Successfully installed contourpy-1.0.6 cycler-0.11.0 fonttools-4.38.0 joblib-1.2.0 kiwisolver-1.4.4 matplotlib-3.6.2 mlxtend-0.21.0 numpy-1.23.5 packaging-22.0 pandas-1.5.2 pillow-9.3.0 pyparsing-3.0.9 python-dateutil-2.8.2 pytz-2022.6 scikit-learn-1.2.0 scipy-1.9.3 setuptools-65.6.3 six-1.16.0 threadpoolctl-3.1.0\n"
          ]
        },
        {
          "output_type": "display_data",
          "data": {
            "application/vnd.colab-display-data+json": {
              "pip_warning": {
                "packages": [
                  "PIL",
                  "cycler",
                  "dateutil",
                  "kiwisolver",
                  "matplotlib",
                  "mpl_toolkits",
                  "numpy",
                  "pkg_resources",
                  "six"
                ]
              }
            }
          },
          "metadata": {}
        }
      ]
    },
    {
      "cell_type": "code",
      "source": [
        "y_pred_val=[]\n",
        "\n",
        "model1.eval()\n",
        "with torch.inference_mode():\n",
        "  for x, y in test_dataloader:\n",
        "    x=x.to(device)\n",
        "    rawpred=model1(x)\n",
        "    y_pred=torch.softmax(rawpred, dim=1).argmax(dim=1)\n",
        "    y_pred_val.append(y_pred.cpu())\n",
        "\n",
        "y_pred_tensor=torch.cat(y_pred_val)"
      ],
      "metadata": {
        "id": "bpZ3X5a2ZtO_"
      },
      "execution_count": 16,
      "outputs": []
    },
    {
      "cell_type": "code",
      "source": [
        "from torchmetrics import ConfusionMatrix\n",
        "from mlxtend.plotting import plot_confusion_matrix\n",
        "\n",
        "#setup\n",
        "confmat = ConfusionMatrix(task=\"multiclass\", num_classes=len(train_data.classes))\n",
        "confmat_tensor = confmat(preds=y_pred_tensor, target=test_data.targets)"
      ],
      "metadata": {
        "id": "nJ7nbKoWZY1R"
      },
      "execution_count": 22,
      "outputs": []
    },
    {
      "cell_type": "code",
      "source": [
        "fig, ax = plot_confusion_matrix(\n",
        "    conf_mat=confmat_tensor.numpy(), \n",
        "    class_names=train_data.classes, \n",
        "    figsize=(12, 10)\n",
        ")"
      ],
      "metadata": {
        "colab": {
          "base_uri": "https://localhost:8080/",
          "height": 640
        },
        "id": "lcHTfcOpvKXI",
        "outputId": "dec3c121-5b99-4589-8802-3ed561e8e903"
      },
      "execution_count": 23,
      "outputs": [
        {
          "output_type": "display_data",
          "data": {
            "text/plain": [
              "<Figure size 864x720 with 1 Axes>"
            ],
            "image/png": "[encoded data removed]"
          },
          "metadata": {
            "needs_background": "light"
          }
        }
      ]
    }
  ]
}