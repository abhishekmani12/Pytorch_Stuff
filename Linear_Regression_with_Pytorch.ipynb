{
  "nbformat": 4,
  "nbformat_minor": 0,
  "metadata": {
    "colab": {
      "provenance": [],
      "authorship_tag": "ABX9TyMG/CFFGIUFnT3uJx5h8XhM"
    },
    "kernelspec": {
      "name": "python3",
      "display_name": "Python 3"
    },
    "language_info": {
      "name": "python"
    }
  },
  "cells": [
    {
      "cell_type": "code",
      "execution_count": 2,
      "metadata": {
        "id": "ybSFI-XreKKi"
      },
      "outputs": [],
      "source": [
        "import torch\n",
        "from torch import nn\n",
        "import matplotlib.pyplot as plt"
      ]
    },
    {
      "cell_type": "code",
      "source": [
        "torch.__version__"
      ],
      "metadata": {
        "colab": {
          "base_uri": "https://localhost:8080/",
          "height": 35
        },
        "id": "mB2nWT0epTRN",
        "outputId": "1b0d43a0-f2df-43ec-99f8-ba176c925a89"
      },
      "execution_count": 3,
      "outputs": [
        {
          "output_type": "execute_result",
          "data": {
            "text/plain": [
              "'1.12.1+cu113'"
            ],
            "application/vnd.google.colaboratory.intrinsic+json": {
              "type": "string"
            }
          },
          "metadata": {},
          "execution_count": 3
        }
      ]
    },
    {
      "cell_type": "markdown",
      "source": [
        "**Creation of Data:**"
      ],
      "metadata": {
        "id": "YE_uMEkcpxhf"
      }
    },
    {
      "cell_type": "code",
      "source": [
        "#linearly separable data\n",
        "w=0.7\n",
        "b=0.3\n",
        "\n",
        "x=torch.arange(0,1,0.02).unsqueeze(dim=1)\n",
        "y=w*x + b"
      ],
      "metadata": {
        "id": "ZBRp3cNtpcrr"
      },
      "execution_count": 4,
      "outputs": []
    },
    {
      "cell_type": "code",
      "source": [
        "x.shape"
      ],
      "metadata": {
        "colab": {
          "base_uri": "https://localhost:8080/"
        },
        "id": "n6D2S3Kopcye",
        "outputId": "901f68de-1b2e-482d-d42a-e5179a570eec"
      },
      "execution_count": 5,
      "outputs": [
        {
          "output_type": "execute_result",
          "data": {
            "text/plain": [
              "torch.Size([50, 1])"
            ]
          },
          "metadata": {},
          "execution_count": 5
        }
      ]
    },
    {
      "cell_type": "code",
      "source": [
        "split=int(0.8 * len(x)) #80%\n",
        "x_train, y_train, x_test, y_test = x[:split], y[:split], x[split:], y[split:]\n",
        "\n",
        "len(x_train), len(x_test)"
      ],
      "metadata": {
        "colab": {
          "base_uri": "https://localhost:8080/"
        },
        "id": "oPmtKdLksqEC",
        "outputId": "4ddcb6c5-b41d-495a-8c69-54fa2c86651b"
      },
      "execution_count": 6,
      "outputs": [
        {
          "output_type": "execute_result",
          "data": {
            "text/plain": [
              "(40, 10)"
            ]
          },
          "metadata": {},
          "execution_count": 6
        }
      ]
    },
    {
      "cell_type": "code",
      "source": [
        "#visualization func:\n",
        "\n",
        "def vizfunc(xtrain, ytrain, xtest, ytest, pred):\n",
        "  plt.figure(figsize=(12,10))\n",
        "\n",
        "  plt.scatter(xtrain, ytrain, c=\"b\", s=15, label=\"Train\")\n",
        "  plt.scatter(xtest, ytest, c=\"y\", s=15, label=\"Test\")\n",
        "\n",
        "  if pred is not None:\n",
        "    plt.scatter(xtest, pred, c=\"r\", s=15, label=\"Prediction\")\n",
        "\n",
        "  plt.legend()\n",
        "\n",
        "vizfunc(x_train, y_train, x_test, y_test, None)    "
      ],
      "metadata": {
        "colab": {
          "base_uri": "https://localhost:8080/",
          "height": 592
        },
        "id": "wKtpr4mFss9E",
        "outputId": "9bb513eb-cf16-4423-9097-1ddda2654a79"
      },
      "execution_count": 46,
      "outputs": [
        {
          "output_type": "display_data",
          "data": {
            "text/plain": [
              "<Figure size 864x720 with 1 Axes>"
            ],
            "image/png": "[encoded data removed]"
          },
          "metadata": {
            "needs_background": "light"
          }
        }
      ]
    },
    {
      "cell_type": "markdown",
      "source": [
        "**Model:**"
      ],
      "metadata": {
        "id": "as5tFGblvAek"
      }
    },
    {
      "cell_type": "code",
      "source": [
        "class regressionModel(nn.Module):\n",
        "\n",
        "  def __init__(self):\n",
        "    super().__init__()\n",
        "\n",
        "    self.weight = nn.Parameter(torch.randn( 1, dtype=torch.float), requires_grad=True) #start with 1 and update with gradient descent -- Autograd\n",
        "\n",
        "    self.bias = nn.Parameter(torch.randn(1, dtype=torch.float), requires_grad=True)\n",
        "\n",
        "  def forward(self, x: torch.Tensor) ->  torch.Tensor: #method from nn.module for computation\n",
        "    return self.weight * x + self.bias #calculating y through linear regression by calculated weight and bias\n"
      ],
      "metadata": {
        "id": "nCJkRH_5s63Y"
      },
      "execution_count": 25,
      "outputs": []
    },
    {
      "cell_type": "code",
      "source": [
        "#prebuilt comp using nn.Linear\n",
        "\n",
        "#gets input dim and output dim\n",
        "class regressionModelLinear(nn.Module):\n",
        "  def __init__(self):\n",
        "    super().__init__()\n",
        "\n",
        "    self.linear_layer=nn.Linear(in_features=1, out_features=1)\n",
        "\n",
        "  def forward(self, x:torch.Tensor) -> torch.Tensor:\n",
        "    return self.linear_layer(x)  \n"
      ],
      "metadata": {
        "id": "u13JNzq5dcPR"
      },
      "execution_count": null,
      "outputs": []
    },
    {
      "cell_type": "code",
      "source": [
        "torch.manual_seed(42)\n",
        "model1=regressionModel()\n",
        "#params before training -- randomly initialized\n",
        "model1.state_dict()"
      ],
      "metadata": {
        "colab": {
          "base_uri": "https://localhost:8080/"
        },
        "id": "ZlzeqqKF1pyk",
        "outputId": "808421ea-0e82-4a4b-9b60-8c286ec97c93"
      },
      "execution_count": 26,
      "outputs": [
        {
          "output_type": "execute_result",
          "data": {
            "text/plain": [
              "OrderedDict([('weight', tensor([0.3367])), ('bias', tensor([0.1288]))])"
            ]
          },
          "metadata": {},
          "execution_count": 26
        }
      ]
    },
    {
      "cell_type": "markdown",
      "source": [
        "**Loss function and Optimizer:**"
      ],
      "metadata": {
        "id": "eamyQs6Y9-hL"
      }
    },
    {
      "cell_type": "code",
      "source": [
        "L1loss=nn.L1Loss()\n",
        "\n",
        "optimizer=torch.optim.SGD(params=model1.parameters(), lr=0.01)"
      ],
      "metadata": {
        "id": "AatSdOmbRGKz"
      },
      "execution_count": 27,
      "outputs": []
    },
    {
      "cell_type": "code",
      "source": [
        "epoch_num=200\n",
        "\n",
        "#storing vals for plotting\n",
        "epoch_count=[]\n",
        "train_loss=[]\n",
        "test_loss=[]\n",
        "\n",
        "\n",
        "for epoch in range(epoch_num):\n",
        "\n",
        "  #TRAIN:\n",
        "  model1.train() #train mode\n",
        "\n",
        "  ypred_train=model1(x_train)\n",
        "  trainloss=L1loss(ypred_train, y_train)\n",
        "\n",
        "  optimizer.zero_grad()\n",
        "  trainloss.backward()\n",
        "  optimizer.step()\n",
        "\n",
        "  #TEST:\n",
        "  model1.eval() #eval mode\n",
        "  \n",
        "  with torch.inference_mode():\n",
        "    y_pred=model1(x_test)\n",
        "    testloss=L1loss(y_pred, y_test)\n",
        "    \n",
        "    if epoch%20 == 0:\n",
        "\n",
        "      epoch_count.append(epoch)\n",
        "      train_loss.append(trainloss.detach().numpy())\n",
        "      test_loss.append(testloss.detach().numpy())\n",
        "\n",
        "      print(f\"Epoch: {epoch}   MAE Train Loss: {trainloss}   MAE Test Loss: {testloss} \")"
      ],
      "metadata": {
        "colab": {
          "base_uri": "https://localhost:8080/"
        },
        "id": "hN_OXvElRGcP",
        "outputId": "171538ce-705c-417d-e00c-10365f4729f2"
      },
      "execution_count": 28,
      "outputs": [
        {
          "output_type": "stream",
          "name": "stdout",
          "text": [
            "Epoch: 0   MAE Train Loss: 0.31288138031959534   MAE Test Loss: 0.48106518387794495 \n",
            "Epoch: 20   MAE Train Loss: 0.08908725529909134   MAE Test Loss: 0.21729660034179688 \n",
            "Epoch: 40   MAE Train Loss: 0.04543796554207802   MAE Test Loss: 0.11360953003168106 \n",
            "Epoch: 60   MAE Train Loss: 0.03818932920694351   MAE Test Loss: 0.08886633068323135 \n",
            "Epoch: 80   MAE Train Loss: 0.03132382780313492   MAE Test Loss: 0.07232122868299484 \n",
            "Epoch: 100   MAE Train Loss: 0.024458957836031914   MAE Test Loss: 0.05646304413676262 \n",
            "Epoch: 120   MAE Train Loss: 0.01758546568453312   MAE Test Loss: 0.04060482233762741 \n",
            "Epoch: 140   MAE Train Loss: 0.010716589167714119   MAE Test Loss: 0.024059748277068138 \n",
            "Epoch: 160   MAE Train Loss: 0.0038517764769494534   MAE Test Loss: 0.008201557211577892 \n",
            "Epoch: 180   MAE Train Loss: 0.008932482451200485   MAE Test Loss: 0.005023092031478882 \n"
          ]
        }
      ]
    },
    {
      "cell_type": "markdown",
      "source": [
        "**PLOTTING:**"
      ],
      "metadata": {
        "id": "nGm7fiCHYYk7"
      }
    },
    {
      "cell_type": "code",
      "source": [
        "#params after training:\n",
        "print(model1.state_dict())\n",
        "\n",
        "print(f\"Original weight = {w}, Original Bias = {b}\")\n"
      ],
      "metadata": {
        "colab": {
          "base_uri": "https://localhost:8080/"
        },
        "id": "hEGwwsIyZ1zl",
        "outputId": "3e44a326-c0dd-4473-9261-40fde0937fa6"
      },
      "execution_count": 29,
      "outputs": [
        {
          "output_type": "stream",
          "name": "stdout",
          "text": [
            "OrderedDict([('weight', tensor([0.6990])), ('bias', tensor([0.3093]))])\n",
            "Original weight = 0.7, Original Bias = 0.3\n"
          ]
        }
      ]
    },
    {
      "cell_type": "code",
      "source": [
        "plt.plot(epoch_count, train_loss, c=\"g\", label=\"Training Loss\")\n",
        "plt.plot(epoch_count, test_loss, c=\"r\", label=\"Testing Loss\")\n",
        "plt.xlabel(\"Epoches\")\n",
        "plt.ylabel(\"Loss\")\n",
        "plt.legend()"
      ],
      "metadata": {
        "colab": {
          "base_uri": "https://localhost:8080/",
          "height": 298
        },
        "id": "lSX8hJHHYND9",
        "outputId": "18ae6f47-b713-4991-9e74-598249298068"
      },
      "execution_count": 30,
      "outputs": [
        {
          "output_type": "execute_result",
          "data": {
            "text/plain": [
              "<matplotlib.legend.Legend at 0x7f144910daf0>"
            ]
          },
          "metadata": {},
          "execution_count": 30
        },
        {
          "output_type": "display_data",
          "data": {
            "text/plain": [
              "<Figure size 432x288 with 1 Axes>"
            ],
            "image/png": "[encoded data removed]"
          },
          "metadata": {
            "needs_background": "light"
          }
        }
      ]
    },
    {
      "cell_type": "code",
      "source": [
        "vizfunc(x_train, y_train, x_test, y_test, y_pred)  "
      ],
      "metadata": {
        "colab": {
          "base_uri": "https://localhost:8080/",
          "height": 592
        },
        "id": "1fR44a4XaCjG",
        "outputId": "7abba823-4e08-44b6-b18f-4907d96f2615"
      },
      "execution_count": 47,
      "outputs": [
        {
          "output_type": "display_data",
          "data": {
            "text/plain": [
              "<Figure size 864x720 with 1 Axes>"
            ],
            "image/png": "[encoded data removed]"
          },
          "metadata": {
            "needs_background": "light"
          }
        }
      ]
    },
    {
      "cell_type": "markdown",
      "source": [
        "Save and load state dict:"
      ],
      "metadata": {
        "id": "dv_DY-Wmeyrt"
      }
    },
    {
      "cell_type": "code",
      "source": [
        "from pathlib import Path\n",
        "\n",
        "model_path=Path(\"Models\")\n",
        "model_path.mkdir()\n",
        "name=\"regression.pth\"\n",
        "torch.save(obj=model1.state_dict(), f=model_path / name)"
      ],
      "metadata": {
        "id": "zhbIJUzycESM"
      },
      "execution_count": 39,
      "outputs": []
    },
    {
      "cell_type": "code",
      "source": [
        "loaded_model=regressionModel()\n",
        "loaded_model.load_state_dict(torch.load(model_path / name))\n",
        "loaded_model.state_dict()"
      ],
      "metadata": {
        "colab": {
          "base_uri": "https://localhost:8080/"
        },
        "id": "WjNowomqh1kt",
        "outputId": "9593ed4e-4f8e-40b0-ab4b-8bb29b84f7ce"
      },
      "execution_count": 42,
      "outputs": [
        {
          "output_type": "execute_result",
          "data": {
            "text/plain": [
              "OrderedDict([('weight', tensor([0.6990])), ('bias', tensor([0.3093]))])"
            ]
          },
          "metadata": {},
          "execution_count": 42
        }
      ]
    }
  ]
}