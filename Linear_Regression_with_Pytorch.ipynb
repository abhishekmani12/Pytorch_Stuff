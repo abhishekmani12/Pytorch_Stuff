{
  "nbformat": 4,
  "nbformat_minor": 0,
  "metadata": {
    "colab": {
      "provenance": [],
      "authorship_tag": "ABX9TyMqIc+JMRKDQ8YHNOolExmD"
    },
    "kernelspec": {
      "name": "python3",
      "display_name": "Python 3"
    },
    "language_info": {
      "name": "python"
    }
  },
  "cells": [
    {
      "cell_type": "code",
      "execution_count": 2,
      "metadata": {
        "id": "ybSFI-XreKKi"
      },
      "outputs": [],
      "source": [
        "import torch\n",
        "from torch import nn\n",
        "import matplotlib.pyplot as plt"
      ]
    },
    {
      "cell_type": "code",
      "source": [
        "torch.__version__"
      ],
      "metadata": {
        "colab": {
          "base_uri": "https://localhost:8080/",
          "height": 35
        },
        "id": "mB2nWT0epTRN",
        "outputId": "4e0d56e9-fdfd-4b28-8856-6466881b4df2"
      },
      "execution_count": 3,
      "outputs": [
        {
          "output_type": "execute_result",
          "data": {
            "text/plain": [
              "'1.12.1+cu113'"
            ],
            "application/vnd.google.colaboratory.intrinsic+json": {
              "type": "string"
            }
          },
          "metadata": {},
          "execution_count": 3
        }
      ]
    },
    {
      "cell_type": "markdown",
      "source": [
        "**Creation of Data:**"
      ],
      "metadata": {
        "id": "YE_uMEkcpxhf"
      }
    },
    {
      "cell_type": "code",
      "source": [
        "#linear data\n",
        "w=-0.9\n",
        "b=0.6\n",
        "\n",
        "x=torch.arange(0,1,0.003).unsqueeze(dim=1)\n",
        "y=w*x + b"
      ],
      "metadata": {
        "id": "ZBRp3cNtpcrr"
      },
      "execution_count": 52,
      "outputs": []
    },
    {
      "cell_type": "code",
      "source": [
        "x.shape"
      ],
      "metadata": {
        "colab": {
          "base_uri": "https://localhost:8080/"
        },
        "id": "n6D2S3Kopcye",
        "outputId": "02215b08-1172-4ee7-c90a-a2097ef25019"
      },
      "execution_count": 53,
      "outputs": [
        {
          "output_type": "execute_result",
          "data": {
            "text/plain": [
              "torch.Size([334, 1])"
            ]
          },
          "metadata": {},
          "execution_count": 53
        }
      ]
    },
    {
      "cell_type": "code",
      "source": [
        "split=int(0.8 * len(x)) #80%\n",
        "x_train, y_train, x_test, y_test = x[:split], y[:split], x[split:], y[split:]\n",
        "\n",
        "len(x_train), len(x_test)"
      ],
      "metadata": {
        "colab": {
          "base_uri": "https://localhost:8080/"
        },
        "id": "oPmtKdLksqEC",
        "outputId": "7e3f1156-6878-4539-c0b4-e91cc57a7286"
      },
      "execution_count": 54,
      "outputs": [
        {
          "output_type": "execute_result",
          "data": {
            "text/plain": [
              "(267, 67)"
            ]
          },
          "metadata": {},
          "execution_count": 54
        }
      ]
    },
    {
      "cell_type": "code",
      "source": [
        "#visualization func:\n",
        "\n",
        "def vizfunc(xtrain, ytrain, xtest, ytest, pred):\n",
        "  plt.figure(figsize=(12,10))\n",
        "\n",
        "  plt.scatter(xtrain, ytrain, c=\"b\", s=5, label=\"Train\")\n",
        "  plt.scatter(xtest, ytest, c=\"y\", s=5, label=\"Test\")\n",
        "\n",
        "  if pred is not None:\n",
        "    plt.scatter(xtest, pred, c=\"r\", s=5, label=\"Prediction\")\n",
        "\n",
        "  plt.legend()\n",
        "\n",
        "vizfunc(x_train, y_train, x_test, y_test, None)    "
      ],
      "metadata": {
        "colab": {
          "base_uri": "https://localhost:8080/",
          "height": 592
        },
        "id": "wKtpr4mFss9E",
        "outputId": "3bbd6a78-63a6-4b77-9ea1-561cc9827fe4"
      },
      "execution_count": 56,
      "outputs": [
        {
          "output_type": "display_data",
          "data": {
            "text/plain": [
              "<Figure size 864x720 with 1 Axes>"
            ],
            "image/png": "[encoded data removed]"
          },
          "metadata": {
            "needs_background": "light"
          }
        }
      ]
    },
    {
      "cell_type": "markdown",
      "source": [
        "**Model:**"
      ],
      "metadata": {
        "id": "as5tFGblvAek"
      }
    },
    {
      "cell_type": "code",
      "source": [
        "class regressionModel(nn.Module):\n",
        "\n",
        "  def __init__(self):\n",
        "    super().__init__()\n",
        "\n",
        "    self.weight = nn.Parameter(torch.randn( 1, dtype=torch.float), requires_grad=True) #start with 1 and update with gradient descent -- Autograd\n",
        "\n",
        "    self.bias = nn.Parameter(torch.randn(1, dtype=torch.float), requires_grad=True)\n",
        "\n",
        "  def forward(self, x: torch.Tensor) ->  torch.Tensor: #method from nn.module for computation\n",
        "    return self.weight * x + self.bias #calculating y through linear regression by calculated weight and bias\n"
      ],
      "metadata": {
        "id": "nCJkRH_5s63Y"
      },
      "execution_count": 63,
      "outputs": []
    },
    {
      "cell_type": "code",
      "source": [
        "#prebuilt comp using nn.Linear\n",
        "\n",
        "#gets input dim and output dim\n",
        "class regressionModelLinear(nn.Module):\n",
        "  def __init__(self):\n",
        "    super().__init__()\n",
        "\n",
        "    self.linear_layer=nn.Linear(in_features=1, out_features=1)\n",
        "\n",
        "  def forward(self, x:torch.Tensor) -> torch.Tensor:\n",
        "    return self.linear_layer(x)  \n"
      ],
      "metadata": {
        "id": "u13JNzq5dcPR"
      },
      "execution_count": 62,
      "outputs": []
    },
    {
      "cell_type": "code",
      "source": [
        "torch.manual_seed(42)\n",
        "model1=regressionModel()\n",
        "#params before training -- randomly initialized\n",
        "model1.state_dict()"
      ],
      "metadata": {
        "colab": {
          "base_uri": "https://localhost:8080/"
        },
        "id": "ZlzeqqKF1pyk",
        "outputId": "2a873c04-5805-4de2-8556-594125357b36"
      },
      "execution_count": 64,
      "outputs": [
        {
          "output_type": "execute_result",
          "data": {
            "text/plain": [
              "OrderedDict([('weight', tensor([0.3367])), ('bias', tensor([0.1288]))])"
            ]
          },
          "metadata": {},
          "execution_count": 64
        }
      ]
    },
    {
      "cell_type": "markdown",
      "source": [
        "**Loss function and Optimizer:**"
      ],
      "metadata": {
        "id": "eamyQs6Y9-hL"
      }
    },
    {
      "cell_type": "code",
      "source": [
        "L1loss=nn.L1Loss()\n",
        "\n",
        "optimizer=torch.optim.SGD(params=model1.parameters(), lr=0.01)"
      ],
      "metadata": {
        "id": "AatSdOmbRGKz"
      },
      "execution_count": 65,
      "outputs": []
    },
    {
      "cell_type": "code",
      "source": [
        "epoch_num=700\n",
        "\n",
        "#storing vals for plotting\n",
        "epoch_count=[]\n",
        "train_loss=[]\n",
        "test_loss=[]\n",
        "\n",
        "\n",
        "for epoch in range(epoch_num):\n",
        "\n",
        "  #TRAIN:\n",
        "  model1.train() #train mode\n",
        "\n",
        "  ypred_train=model1(x_train)\n",
        "  trainloss=L1loss(ypred_train, y_train)\n",
        "\n",
        "  optimizer.zero_grad()\n",
        "  trainloss.backward()\n",
        "  optimizer.step()\n",
        "\n",
        "  #TEST:\n",
        "  model1.eval() #eval mode\n",
        "  \n",
        "  with torch.inference_mode():\n",
        "    y_pred=model1(x_test)\n",
        "    testloss=L1loss(y_pred, y_test)\n",
        "    \n",
        "    if epoch%20 == 0:\n",
        "\n",
        "      epoch_count.append(epoch)\n",
        "      train_loss.append(trainloss.detach().numpy())\n",
        "      test_loss.append(testloss.detach().numpy())\n",
        "\n",
        "      print(f\"Epoch: {epoch}   MAE Train Loss: {trainloss}   MAE Test Loss: {testloss} \")"
      ],
      "metadata": {
        "colab": {
          "base_uri": "https://localhost:8080/"
        },
        "id": "hN_OXvElRGcP",
        "outputId": "51a69868-f219-45c7-8d81-ed20b1f75646"
      },
      "execution_count": 66,
      "outputs": [
        {
          "output_type": "stream",
          "name": "stdout",
          "text": [
            "Epoch: 0   MAE Train Loss: 0.2481435090303421   MAE Test Loss: 0.6394715309143066 \n",
            "Epoch: 20   MAE Train Loss: 0.23926793038845062   MAE Test Loss: 0.5977469086647034 \n",
            "Epoch: 40   MAE Train Loss: 0.23160961270332336   MAE Test Loss: 0.565580427646637 \n",
            "Epoch: 60   MAE Train Loss: 0.22444288432598114   MAE Test Loss: 0.5393564105033875 \n",
            "Epoch: 80   MAE Train Loss: 0.21748144924640656   MAE Test Loss: 0.5173541307449341 \n",
            "Epoch: 100   MAE Train Loss: 0.21059049665927887   MAE Test Loss: 0.49772801995277405 \n",
            "Epoch: 120   MAE Train Loss: 0.20372217893600464   MAE Test Loss: 0.4791358709335327 \n",
            "Epoch: 140   MAE Train Loss: 0.19687169790267944   MAE Test Loss: 0.46261629462242126 \n",
            "Epoch: 160   MAE Train Loss: 0.19002147018909454   MAE Test Loss: 0.4460967779159546 \n",
            "Epoch: 180   MAE Train Loss: 0.18317127227783203   MAE Test Loss: 0.42957717180252075 \n",
            "Epoch: 200   MAE Train Loss: 0.17632104456424713   MAE Test Loss: 0.4130575954914093 \n",
            "Epoch: 220   MAE Train Loss: 0.1694708615541458   MAE Test Loss: 0.39653801918029785 \n",
            "Epoch: 240   MAE Train Loss: 0.16262061893939972   MAE Test Loss: 0.38001853227615356 \n",
            "Epoch: 260   MAE Train Loss: 0.15577048063278198   MAE Test Loss: 0.3636030852794647 \n",
            "Epoch: 280   MAE Train Loss: 0.148920938372612   MAE Test Loss: 0.34749892354011536 \n",
            "Epoch: 300   MAE Train Loss: 0.14207148551940918   MAE Test Loss: 0.3314986824989319 \n",
            "Epoch: 320   MAE Train Loss: 0.13522203266620636   MAE Test Loss: 0.31549838185310364 \n",
            "Epoch: 340   MAE Train Loss: 0.12837259471416473   MAE Test Loss: 0.29949817061424255 \n",
            "Epoch: 360   MAE Train Loss: 0.12152315676212311   MAE Test Loss: 0.283498078584671 \n",
            "Epoch: 380   MAE Train Loss: 0.11467361450195312   MAE Test Loss: 0.26739415526390076 \n",
            "Epoch: 400   MAE Train Loss: 0.10782420635223389   MAE Test Loss: 0.2513940632343292 \n",
            "Epoch: 420   MAE Train Loss: 0.10097478330135345   MAE Test Loss: 0.23539401590824127 \n",
            "Epoch: 440   MAE Train Loss: 0.09412539005279541   MAE Test Loss: 0.21939389407634735 \n",
            "Epoch: 460   MAE Train Loss: 0.08727594465017319   MAE Test Loss: 0.203393816947937 \n",
            "Epoch: 480   MAE Train Loss: 0.08042639493942261   MAE Test Loss: 0.18728990852832794 \n",
            "Epoch: 500   MAE Train Loss: 0.07357688993215561   MAE Test Loss: 0.17128928005695343 \n",
            "Epoch: 520   MAE Train Loss: 0.06672737002372742   MAE Test Loss: 0.15528862178325653 \n",
            "Epoch: 540   MAE Train Loss: 0.05987785384058952   MAE Test Loss: 0.1392880082130432 \n",
            "Epoch: 560   MAE Train Loss: 0.053028322756290436   MAE Test Loss: 0.1232873722910881 \n",
            "Epoch: 580   MAE Train Loss: 0.046178679913282394   MAE Test Loss: 0.10728678107261658 \n",
            "Epoch: 600   MAE Train Loss: 0.03932914510369301   MAE Test Loss: 0.09118246287107468 \n",
            "Epoch: 620   MAE Train Loss: 0.03247962146997452   MAE Test Loss: 0.0751819834113121 \n",
            "Epoch: 640   MAE Train Loss: 0.025630099698901176   MAE Test Loss: 0.05918150395154953 \n",
            "Epoch: 660   MAE Train Loss: 0.01878056861460209   MAE Test Loss: 0.04318102076649666 \n",
            "Epoch: 680   MAE Train Loss: 0.011930913664400578   MAE Test Loss: 0.027180543169379234 \n"
          ]
        }
      ]
    },
    {
      "cell_type": "markdown",
      "source": [
        "**PLOTTING:**"
      ],
      "metadata": {
        "id": "nGm7fiCHYYk7"
      }
    },
    {
      "cell_type": "code",
      "source": [
        "#params after training:\n",
        "print(model1.state_dict())\n",
        "\n",
        "print(f\"Original weight = {w}, Original Bias = {b}\")\n"
      ],
      "metadata": {
        "colab": {
          "base_uri": "https://localhost:8080/"
        },
        "id": "hEGwwsIyZ1zl",
        "outputId": "6b7a7dcc-416f-4d43-d689-e26db4e53d48"
      },
      "execution_count": 67,
      "outputs": [
        {
          "output_type": "stream",
          "name": "stdout",
          "text": [
            "OrderedDict([('weight', tensor([-0.8748])), ('bias', tensor([0.5892]))])\n",
            "Original weight = -0.9, Original Bias = 0.6\n"
          ]
        }
      ]
    },
    {
      "cell_type": "code",
      "source": [
        "plt.plot(epoch_count, train_loss, c=\"g\", label=\"Training Loss\")\n",
        "plt.plot(epoch_count, test_loss, c=\"r\", label=\"Testing Loss\")\n",
        "plt.xlabel(\"Epoches\")\n",
        "plt.ylabel(\"Loss\")\n",
        "plt.legend()"
      ],
      "metadata": {
        "colab": {
          "base_uri": "https://localhost:8080/",
          "height": 296
        },
        "id": "lSX8hJHHYND9",
        "outputId": "7767e346-b1e0-4002-b81b-d5acf29e653f"
      },
      "execution_count": 68,
      "outputs": [
        {
          "output_type": "execute_result",
          "data": {
            "text/plain": [
              "<matplotlib.legend.Legend at 0x7fa91394e610>"
            ]
          },
          "metadata": {},
          "execution_count": 68
        },
        {
          "output_type": "display_data",
          "data": {
            "text/plain": [
              "<Figure size 432x288 with 1 Axes>"
            ],
            "image/png": "[encoded data removed]"
          },
          "metadata": {
            "needs_background": "light"
          }
        }
      ]
    },
    {
      "cell_type": "code",
      "source": [
        "vizfunc(x_train, y_train, x_test, y_test, y_pred)  "
      ],
      "metadata": {
        "colab": {
          "base_uri": "https://localhost:8080/",
          "height": 592
        },
        "id": "1fR44a4XaCjG",
        "outputId": "79ddf98c-5049-4958-97fe-d1cdad3dad4c"
      },
      "execution_count": 69,
      "outputs": [
        {
          "output_type": "display_data",
          "data": {
            "text/plain": [
              "<Figure size 864x720 with 1 Axes>"
            ],
            "image/png": "[encoded data removed]"
          },
          "metadata": {
            "needs_background": "light"
          }
        }
      ]
    },
    {
      "cell_type": "markdown",
      "source": [
        "Save and load state dict:"
      ],
      "metadata": {
        "id": "dv_DY-Wmeyrt"
      }
    },
    {
      "cell_type": "code",
      "source": [
        "from pathlib import Path\n",
        "\n",
        "model_path=Path(\"Models\")\n",
        "model_path.mkdir()\n",
        "name=\"regression.pth\"\n",
        "torch.save(obj=model1.state_dict(), f=model_path / name)"
      ],
      "metadata": {
        "id": "zhbIJUzycESM"
      },
      "execution_count": 70,
      "outputs": []
    },
    {
      "cell_type": "code",
      "source": [
        "loaded_model=regressionModel()\n",
        "loaded_model.load_state_dict(torch.load(model_path / name))\n",
        "loaded_model.state_dict()"
      ],
      "metadata": {
        "colab": {
          "base_uri": "https://localhost:8080/"
        },
        "id": "WjNowomqh1kt",
        "outputId": "4a5e54d8-6d66-4fcb-abe9-9cd773dbe1b6"
      },
      "execution_count": 71,
      "outputs": [
        {
          "output_type": "execute_result",
          "data": {
            "text/plain": [
              "OrderedDict([('weight', tensor([-0.8748])), ('bias', tensor([0.5892]))])"
            ]
          },
          "metadata": {},
          "execution_count": 71
        }
      ]
    }
  ]
}