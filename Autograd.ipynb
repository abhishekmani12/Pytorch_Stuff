{
  "nbformat": 4,
  "nbformat_minor": 0,
  "metadata": {
    "colab": {
      "name": "Untitled16.ipynb",
      "provenance": [],
      "authorship_tag": "ABX9TyM1cBlQsc3Rkwb9RPZAqwxn"
    },
    "kernelspec": {
      "name": "python3",
      "display_name": "Python 3"
    },
    "language_info": {
      "name": "python"
    }
  },
  "cells": [
    {
      "cell_type": "code",
      "execution_count": null,
      "metadata": {
        "id": "YC1J8PUPnqgP"
      },
      "outputs": [],
      "source": [
        "import torch"
      ]
    },
    {
      "cell_type": "code",
      "source": [
        "a=torch.tensor([5.], requires_grad=True)\n",
        "b=torch.tensor([6.], requires_grad=True)"
      ],
      "metadata": {
        "id": "xfNuXAv-n--Q"
      },
      "execution_count": null,
      "outputs": []
    },
    {
      "cell_type": "code",
      "source": [
        "y=a**3-b**2\n",
        "y"
      ],
      "metadata": {
        "colab": {
          "base_uri": "https://localhost:8080/"
        },
        "id": "wuQwofd3n_Dl",
        "outputId": "2a3505bd-79db-42f3-a6e5-f1df7a4f90ba"
      },
      "execution_count": null,
      "outputs": [
        {
          "output_type": "execute_result",
          "data": {
            "text/plain": [
              "tensor([89.], grad_fn=<SubBackward0>)"
            ]
          },
          "metadata": {},
          "execution_count": 3
        }
      ]
    },
    {
      "cell_type": "code",
      "source": [
        "#gradient of y\n",
        "\n",
        "\n",
        "# dy/da = 3*a**2=3*25=75\n",
        "# dy/db = -2b=2*6=-12\n",
        "\n"
      ],
      "metadata": {
        "id": "30AGkkLVn_Hb"
      },
      "execution_count": null,
      "outputs": []
    },
    {
      "cell_type": "code",
      "source": [
        "y.backward() #Calculates gradients automatically"
      ],
      "metadata": {
        "id": "3lHFmLXzpCBg"
      },
      "execution_count": null,
      "outputs": []
    },
    {
      "cell_type": "code",
      "source": [
        "#derivatives\n",
        "\n",
        "a.grad"
      ],
      "metadata": {
        "colab": {
          "base_uri": "https://localhost:8080/"
        },
        "id": "-lB8vgEMpV-C",
        "outputId": "f50ba371-ed31-4c96-fdfe-91a006db7466"
      },
      "execution_count": null,
      "outputs": [
        {
          "output_type": "execute_result",
          "data": {
            "text/plain": [
              "tensor([75.])"
            ]
          },
          "metadata": {},
          "execution_count": 5
        }
      ]
    },
    {
      "cell_type": "code",
      "source": [
        "b.grad"
      ],
      "metadata": {
        "colab": {
          "base_uri": "https://localhost:8080/"
        },
        "id": "hcbtcKQfpWPp",
        "outputId": "ae88dc13-94d5-4f30-a7cb-8f43d4843b66"
      },
      "execution_count": null,
      "outputs": [
        {
          "output_type": "execute_result",
          "data": {
            "text/plain": [
              "tensor([-12.])"
            ]
          },
          "metadata": {},
          "execution_count": 6
        }
      ]
    },
    {
      "cell_type": "code",
      "source": [
        "#example with y=wx+b\n",
        "\n",
        "w=torch.rand(10,1, requires_grad=True)\n",
        "b=torch.rand(1, requires_grad=True)\n",
        "w"
      ],
      "metadata": {
        "colab": {
          "base_uri": "https://localhost:8080/"
        },
        "id": "7orSM_0GpWSa",
        "outputId": "64d2d456-feea-448b-ff30-c64be659c78d"
      },
      "execution_count": null,
      "outputs": [
        {
          "output_type": "execute_result",
          "data": {
            "text/plain": [
              "tensor([[0.8816],\n",
              "        [0.3203],\n",
              "        [0.6632],\n",
              "        [0.2135],\n",
              "        [0.5756],\n",
              "        [0.4399],\n",
              "        [0.1493],\n",
              "        [0.1941],\n",
              "        [0.3926],\n",
              "        [0.3302]], requires_grad=True)"
            ]
          },
          "metadata": {},
          "execution_count": 56
        }
      ]
    },
    {
      "cell_type": "code",
      "source": [
        "x=torch.rand(1,10)"
      ],
      "metadata": {
        "id": "yNKxfASgqCkh"
      },
      "execution_count": null,
      "outputs": []
    },
    {
      "cell_type": "code",
      "source": [
        "res=torch.mm(x,w) + b"
      ],
      "metadata": {
        "id": "D8C1cpBCqMYI"
      },
      "execution_count": null,
      "outputs": []
    },
    {
      "cell_type": "code",
      "source": [
        "loss=1-res #loss fn"
      ],
      "metadata": {
        "id": "82DIYzA_qiOA"
      },
      "execution_count": null,
      "outputs": []
    },
    {
      "cell_type": "code",
      "source": [
        "res.backward()"
      ],
      "metadata": {
        "id": "WDm9Q0Vjq0KD"
      },
      "execution_count": null,
      "outputs": []
    },
    {
      "cell_type": "code",
      "source": [
        "w.grad"
      ],
      "metadata": {
        "colab": {
          "base_uri": "https://localhost:8080/"
        },
        "id": "OiTfR3EZq4T0",
        "outputId": "71422fa8-8d5a-4cf4-8596-1d324231477d"
      },
      "execution_count": null,
      "outputs": [
        {
          "output_type": "execute_result",
          "data": {
            "text/plain": [
              "tensor([[0.1720],\n",
              "        [0.7228],\n",
              "        [0.4280],\n",
              "        [0.3960],\n",
              "        [0.0285],\n",
              "        [0.9634],\n",
              "        [0.7631],\n",
              "        [0.4721],\n",
              "        [0.9021],\n",
              "        [0.8498]])"
            ]
          },
          "metadata": {},
          "execution_count": 61
        }
      ]
    },
    {
      "cell_type": "code",
      "source": [
        "b.grad"
      ],
      "metadata": {
        "colab": {
          "base_uri": "https://localhost:8080/"
        },
        "id": "cQOkCFHHq4cQ",
        "outputId": "32fb4108-56fd-4df1-aa3f-c1aeceba8431"
      },
      "execution_count": null,
      "outputs": [
        {
          "output_type": "execute_result",
          "data": {
            "text/plain": [
              "tensor([1.])"
            ]
          },
          "metadata": {},
          "execution_count": 62
        }
      ]
    },
    {
      "cell_type": "code",
      "source": [
        "loss\n"
      ],
      "metadata": {
        "colab": {
          "base_uri": "https://localhost:8080/"
        },
        "id": "Q9_exjhkrkZp",
        "outputId": "15f9e26b-6678-4bff-c210-00982efdc1f6"
      },
      "execution_count": null,
      "outputs": [
        {
          "output_type": "execute_result",
          "data": {
            "text/plain": [
              "tensor([[-1.9915]], grad_fn=<RsubBackward1>)"
            ]
          },
          "metadata": {},
          "execution_count": 63
        }
      ]
    },
    {
      "cell_type": "code",
      "source": [
        "#updating weights:\n",
        "lr=0.001\n",
        "\n",
        "with torch.no_grad():\n",
        "  w=w-lr*w.grad.data\n",
        "w"
      ],
      "metadata": {
        "colab": {
          "base_uri": "https://localhost:8080/"
        },
        "id": "fTfkSUYkr8ma",
        "outputId": "04c624d6-068f-47db-8e12-ff7e799acc32"
      },
      "execution_count": null,
      "outputs": [
        {
          "output_type": "execute_result",
          "data": {
            "text/plain": [
              "tensor([[0.8814],\n",
              "        [0.3195],\n",
              "        [0.6628],\n",
              "        [0.2131],\n",
              "        [0.5756],\n",
              "        [0.4389],\n",
              "        [0.1485],\n",
              "        [0.1936],\n",
              "        [0.3917],\n",
              "        [0.3294]])"
            ]
          },
          "metadata": {},
          "execution_count": 64
        }
      ]
    },
    {
      "cell_type": "code",
      "source": [
        "z=torch.rand(1,224,224)\n",
        "z.shape"
      ],
      "metadata": {
        "colab": {
          "base_uri": "https://localhost:8080/"
        },
        "id": "xq291WQss06n",
        "outputId": "0b120602-cf53-43e2-dfdf-7448dd765992"
      },
      "execution_count": null,
      "outputs": [
        {
          "output_type": "execute_result",
          "data": {
            "text/plain": [
              "torch.Size([3, 224, 224])"
            ]
          },
          "metadata": {},
          "execution_count": 68
        }
      ]
    },
    {
      "cell_type": "code",
      "source": [
        ""
      ],
      "metadata": {
        "id": "AeUxvxTtr-b0"
      },
      "execution_count": null,
      "outputs": []
    }
  ]
}