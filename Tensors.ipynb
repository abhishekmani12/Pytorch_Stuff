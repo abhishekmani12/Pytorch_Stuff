{
  "nbformat": 4,
  "nbformat_minor": 0,
  "metadata": {
    "colab": {
      "name": "Tensors.ipynb",
      "provenance": [],
      "authorship_tag": "ABX9TyMugmGKToJbOqvojHSL6utk",
      "include_colab_link": true
    },
    "kernelspec": {
      "name": "python3",
      "display_name": "Python 3"
    },
    "language_info": {
      "name": "python"
    }
  },
  "cells": [
    {
      "cell_type": "markdown",
      "metadata": {
        "id": "view-in-github",
        "colab_type": "text"
      },
      "source": [
        "<a href=\"https://colab.research.google.com/github/abhishekmani12/Pytorch_Stuff/blob/main/Tensors.ipynb\" target=\"_parent\"><img src=\"https://colab.research.google.com/assets/colab-badge.svg\" alt=\"Open In Colab\"/></a>"
      ]
    },
    {
      "cell_type": "code",
      "execution_count": 1,
      "metadata": {
        "id": "9hshZfaKmpzf"
      },
      "outputs": [],
      "source": [
        "import torch"
      ]
    },
    {
      "cell_type": "markdown",
      "source": [
        "**Multiplying Tensors:**"
      ],
      "metadata": {
        "id": "1YZt52PlnSiz"
      }
    },
    {
      "cell_type": "code",
      "source": [
        "x=torch.Tensor([3,2])\n",
        "y=torch.Tensor([21,80])\n",
        "\n",
        "result=x*y\n",
        "print(result)"
      ],
      "metadata": {
        "colab": {
          "base_uri": "https://localhost:8080/"
        },
        "id": "GFHw5RwHm3aF",
        "outputId": "e647d110-6397-4d3a-8ed0-75255ddfe096"
      },
      "execution_count": 5,
      "outputs": [
        {
          "output_type": "stream",
          "name": "stdout",
          "text": [
            "tensor([ 63., 160.])\n"
          ]
        }
      ]
    },
    {
      "cell_type": "code",
      "source": [
        "result.shape"
      ],
      "metadata": {
        "colab": {
          "base_uri": "https://localhost:8080/"
        },
        "id": "rDFr0lSKn088",
        "outputId": "c01ea1ac-d344-4644-8d45-5a9c54af74d3"
      },
      "execution_count": 7,
      "outputs": [
        {
          "output_type": "execute_result",
          "data": {
            "text/plain": [
              "torch.Size([2])"
            ]
          },
          "metadata": {},
          "execution_count": 7
        }
      ]
    },
    {
      "cell_type": "markdown",
      "source": [
        "**Empty / Zero array:**"
      ],
      "metadata": {
        "id": "ipEHpXa9nZg3"
      }
    },
    {
      "cell_type": "code",
      "source": [
        "empty=torch.zeros([4,4])\n",
        "print(empty)"
      ],
      "metadata": {
        "colab": {
          "base_uri": "https://localhost:8080/"
        },
        "id": "1D40Nzgim3lO",
        "outputId": "b90ba9c6-1a79-4853-b103-0997fd8b7b0b"
      },
      "execution_count": 4,
      "outputs": [
        {
          "output_type": "execute_result",
          "data": {
            "text/plain": [
              "tensor([[0., 0., 0., 0.],\n",
              "        [0., 0., 0., 0.],\n",
              "        [0., 0., 0., 0.],\n",
              "        [0., 0., 0., 0.]])"
            ]
          },
          "metadata": {},
          "execution_count": 4
        }
      ]
    },
    {
      "cell_type": "markdown",
      "source": [
        "**Array of Random Values:**"
      ],
      "metadata": {
        "id": "WQK3xW_koLZW"
      }
    },
    {
      "cell_type": "code",
      "source": [
        "z=torch.rand([4,4])\n",
        "z"
      ],
      "metadata": {
        "colab": {
          "base_uri": "https://localhost:8080/"
        },
        "id": "5OcgOq4Hm3vG",
        "outputId": "ed01596e-5283-45d5-a06f-32105c17960b"
      },
      "execution_count": 10,
      "outputs": [
        {
          "output_type": "execute_result",
          "data": {
            "text/plain": [
              "tensor([[0.1110, 0.6634, 0.8638, 0.2999],\n",
              "        [0.9482, 0.0129, 0.4900, 0.9467],\n",
              "        [0.1853, 0.3737, 0.2357, 0.8817],\n",
              "        [0.6396, 0.8546, 0.3520, 0.9663]])"
            ]
          },
          "metadata": {},
          "execution_count": 10
        }
      ]
    },
    {
      "cell_type": "markdown",
      "source": [
        "**Reshaping an Array:**"
      ],
      "metadata": {
        "id": "3-_FTGCrovpE"
      }
    },
    {
      "cell_type": "code",
      "source": [
        "z.view([8,2])"
      ],
      "metadata": {
        "colab": {
          "base_uri": "https://localhost:8080/"
        },
        "id": "LxNGFNDHm33U",
        "outputId": "b51e439d-11ad-4929-b214-60132c0afad7"
      },
      "execution_count": 11,
      "outputs": [
        {
          "output_type": "execute_result",
          "data": {
            "text/plain": [
              "tensor([[0.1110, 0.6634],\n",
              "        [0.8638, 0.2999],\n",
              "        [0.9482, 0.0129],\n",
              "        [0.4900, 0.9467],\n",
              "        [0.1853, 0.3737],\n",
              "        [0.2357, 0.8817],\n",
              "        [0.6396, 0.8546],\n",
              "        [0.3520, 0.9663]])"
            ]
          },
          "metadata": {},
          "execution_count": 11
        }
      ]
    }
  ]
}