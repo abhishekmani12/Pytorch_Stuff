{
  "cells": [
    {
      "cell_type": "markdown",
      "metadata": {
        "id": "XaPVQv4Xk2fP"
      },
      "source": [
        "**IMPORTS:**"
      ]
    },
    {
      "cell_type": "code",
      "execution_count": null,
      "metadata": {
        "colab": {
          "base_uri": "https://localhost:8080/"
        },
        "id": "OrcFFxYEkW25",
        "outputId": "06dd45e2-8d7a-40f1-e53f-d3dc3c8e60f4"
      },
      "outputs": [
        {
          "name": "stdout",
          "output_type": "stream",
          "text": [
            "Looking in indexes: https://pypi.org/simple, https://pypi.ngc.nvidia.com\n",
            "Requirement already satisfied: tqdm in /opt/conda/lib/python3.8/site-packages (4.62.3)\n",
            "\u001b[33mWARNING: Running pip as the 'root' user can result in broken permissions and conflicting behaviour with the system package manager. It is recommended to use a virtual environment instead: https://pip.pypa.io/warnings/venv\u001b[0m\n"
          ]
        }
      ],
      "source": [
        "import os\n",
        "import cv2\n",
        "\n",
        "import numpy as np\n",
        "\n",
        "!pip install tqdm\n",
        "\n",
        "from tqdm import tqdm  #for progress bars\n",
        "\n",
        "import torch"
      ]
    },
    {
      "cell_type": "code",
      "execution_count": null,
      "metadata": {
        "id": "ept85vm6jJ1N"
      },
      "outputs": [],
      "source": [
        "from zipfile import ZipFile\n",
        "zip = ZipFile('')\n",
        "zip.extractall() "
      ]
    },
    {
      "cell_type": "markdown",
      "metadata": {
        "id": "uGK1qodAmbql"
      },
      "source": [
        "**Data Processing Class:**"
      ]
    },
    {
      "cell_type": "code",
      "execution_count": null,
      "metadata": {
        "id": "5TC2817AjJ1O",
        "outputId": "0814d9f3-3e15-4f59-b72c-42f9f79a3c72"
      },
      "outputs": [
        {
          "name": "stdout",
          "output_type": "stream",
          "text": [
            "PetImages/Cat\n"
          ]
        },
        {
          "name": "stderr",
          "output_type": "stream",
          "text": [
            " 11%|█         | 1383/12502 [00:04<00:29, 372.60it/s]Corrupt JPEG data: 1153 extraneous bytes before marker 0xd9\n",
            " 43%|████▎     | 5330/12502 [00:15<00:21, 341.41it/s]Corrupt JPEG data: 239 extraneous bytes before marker 0xd9\n",
            " 47%|████▋     | 5905/12502 [00:18<00:37, 177.53it/s]Corrupt JPEG data: 214 extraneous bytes before marker 0xd9\n",
            " 60%|██████    | 7544/12502 [00:22<00:15, 319.21it/s]Corrupt JPEG data: 128 extraneous bytes before marker 0xd9\n",
            " 88%|████████▊ | 10958/12502 [00:32<00:04, 337.66it/s]Corrupt JPEG data: 99 extraneous bytes before marker 0xd9\n",
            "100%|██████████| 12502/12502 [00:37<00:00, 334.73it/s]\n"
          ]
        },
        {
          "name": "stdout",
          "output_type": "stream",
          "text": [
            "PetImages/Dog\n"
          ]
        },
        {
          "name": "stderr",
          "output_type": "stream",
          "text": [
            "  2%|▏         | 268/12501 [00:00<00:40, 302.05it/s]Corrupt JPEG data: 399 extraneous bytes before marker 0xd9\n",
            "  4%|▍         | 535/12501 [00:01<00:36, 330.98it/s]Warning: unknown JFIF revision number 0.00\n",
            " 23%|██▎       | 2837/12501 [00:08<00:27, 347.62it/s]Corrupt JPEG data: 1403 extraneous bytes before marker 0xd9\n",
            " 45%|████▍     | 5585/12501 [00:17<00:20, 334.46it/s]Corrupt JPEG data: 254 extraneous bytes before marker 0xd9\n",
            " 74%|███████▍  | 9230/12501 [00:28<00:09, 330.43it/s]Corrupt JPEG data: 65 extraneous bytes before marker 0xd9\n",
            " 77%|███████▋  | 9652/12501 [00:29<00:08, 347.07it/s]Corrupt JPEG data: 226 extraneous bytes before marker 0xd9\n",
            " 82%|████████▏ | 10227/12501 [00:31<00:07, 312.50it/s]Corrupt JPEG data: 2230 extraneous bytes before marker 0xd9\n",
            " 83%|████████▎ | 10340/12501 [00:32<00:06, 346.87it/s]Corrupt JPEG data: 162 extraneous bytes before marker 0xd9\n",
            "100%|██████████| 12501/12501 [00:38<00:00, 323.66it/s]\n",
            "/opt/conda/lib/python3.8/site-packages/numpy/lib/npyio.py:518: VisibleDeprecationWarning: Creating an ndarray from ragged nested sequences (which is a list-or-tuple of lists-or-tuples-or ndarrays with different lengths or shapes) is deprecated. If you meant to do this, you must specify 'dtype=object' when creating the ndarray.\n",
            "  arr = np.asanyarray(arr)\n"
          ]
        },
        {
          "name": "stdout",
          "output_type": "stream",
          "text": [
            "Cat count: 12476\n",
            "Dog count: 12470\n"
          ]
        }
      ],
      "source": [
        "rebuildData = True # set to true to one once, then back to false unless you want to change something in your training data.\n",
        "\n",
        "class dogsVScats():\n",
        "    \n",
        "    img_size = 50 #normalization\n",
        "    \n",
        "    #path for data classes\n",
        "    \n",
        "    cats=\"PetImages/Cat\"\n",
        "    dogs=\"PetImages/Dog\"\n",
        "    \n",
        "    #testing = \"PetImages/Testing\"\n",
        "    \n",
        "    #Assigning numerical values for classes\n",
        "    labels={cats: 0, dogs: 1}\n",
        "    \n",
        "    training_data = [] # for images with labels\n",
        "\n",
        "    catcount = 0\n",
        "    dogcount = 0\n",
        "\n",
        "    def training_data_m(self):\n",
        "        \n",
        "        #Iterating through directory via labels dict\n",
        "        for label in self.labels:\n",
        "            \n",
        "            print(label)\n",
        "            \n",
        "            #Iterating through images in the directory--f: filename\n",
        "            for f in tqdm(os.listdir(label)):\n",
        "                \n",
        "                if \"jpg\" in f:\n",
        "                    \n",
        "                    try:\n",
        "                        path = os.path.join(label, f) #merge respective paths with label\n",
        "                        \n",
        "                        #Converting to greyscale\n",
        "                        img = cv2.imread(path, cv2.IMREAD_GRAYSCALE)\n",
        "                        \n",
        "                        #resize\n",
        "                        img = cv2.resize(img, (self.img_size, self.img_size))\n",
        "                        \n",
        "                        #Appending img data with label\n",
        "                        #np.eye(2) is used for encoding onehot vectors of class 2\n",
        "                        \n",
        "                        self.training_data.append([np.array(img),np.eye(2)[self.labels[label]]])\n",
        "                        \n",
        "\n",
        "                        #keeping track of count to check for balance between the classes\n",
        "                        \n",
        "                        if label == self.cats:\n",
        "                            \n",
        "                            self.catcount += 1\n",
        "                            \n",
        "                        elif label == self.dogs:\n",
        "                            \n",
        "                            self.dogcount += 1\n",
        "                            \n",
        "                            \n",
        "                    #error handling for images which can't be read\n",
        "                            \n",
        "                    except Exception as e:\n",
        "                        pass\n",
        "                        \n",
        "        \n",
        "        #shuffling td list\n",
        "        np.random.shuffle(self.training_data)\n",
        "        \n",
        "        #save td as .npy file\n",
        "        np.save(\"training_data.npy\", self.training_data)\n",
        "        \n",
        "        print('Cat count:',cdata.catcount)\n",
        "        print('Dog count:',cdata.dogcount)\n",
        "\n",
        "if rebuildData:\n",
        "    \n",
        "    cdata = dogsVScats()\n",
        "    cdata.training_data_m()"
      ]
    },
    {
      "cell_type": "code",
      "execution_count": null,
      "metadata": {
        "id": "Y8XEMjvpjJ1Q"
      },
      "outputs": [],
      "source": [
        "training_data=np.load(\"training_data.npy\", allow_pickle=True)"
      ]
    },
    {
      "cell_type": "code",
      "execution_count": null,
      "metadata": {
        "id": "svqDk6vzjJ1Q",
        "outputId": "eab616a3-8451-4943-fe25-58ec1ed940de"
      },
      "outputs": [
        {
          "name": "stdout",
          "output_type": "stream",
          "text": [
            "[[array([[207, 207, 207, ..., 178, 175, 172],\n",
            "         [207, 208, 208, ..., 179, 177, 172],\n",
            "         [208, 209, 209, ..., 180, 176, 172],\n",
            "         ...,\n",
            "         [214, 214, 212, ..., 191, 195, 195],\n",
            "         [208, 208, 211, ..., 205, 207, 209],\n",
            "         [216, 220, 217, ..., 238, 240, 232]], dtype=uint8)\n",
            "  array([1., 0.])]\n",
            " [array([[ 54,  54,  56, ...,  54,  55,  53],\n",
            "         [ 56,  55,  57, ...,  54,  56,  55],\n",
            "         [ 57,  57,  58, ...,  56,  57,  58],\n",
            "         ...,\n",
            "         [221, 216, 184, ..., 148, 196, 167],\n",
            "         [222, 204, 186, ..., 182, 167, 188],\n",
            "         [220, 221, 194, ..., 170, 176, 162]], dtype=uint8)\n",
            "  array([1., 0.])]\n",
            " [array([[169, 167, 163, ...,  29,  26,  22],\n",
            "         [ 37,  29,  29, ...,  38,  29,  18],\n",
            "         [116,  40,  85, ...,  34,  26,  20],\n",
            "         ...,\n",
            "         [198, 207, 212, ..., 207, 205, 218],\n",
            "         [201, 215, 219, ..., 210, 167, 209],\n",
            "         [214, 226, 215, ..., 215, 192, 211]], dtype=uint8)\n",
            "  array([1., 0.])]\n",
            " ...\n",
            " [array([[ 56,  33,  85, ...,  70,  62,  58],\n",
            "         [ 84,  85,  86, ...,  63,  54,  57],\n",
            "         [ 84,  89,  67, ...,  59,  44,  47],\n",
            "         ...,\n",
            "         [ 17, 151, 133, ..., 199, 202, 174],\n",
            "         [144, 161, 139, ..., 199, 204, 181],\n",
            "         [154, 163, 163, ..., 198, 230, 216]], dtype=uint8)\n",
            "  array([1., 0.])]\n",
            " [array([[ 60,  71,  89, ..., 120, 115, 109],\n",
            "         [ 63,  69,  83, ..., 121, 116, 111],\n",
            "         [ 64,  69,  90, ..., 122, 116, 113],\n",
            "         ...,\n",
            "         [145, 150, 158, ...,  52,  54,  52],\n",
            "         [140, 149, 154, ...,  53,  56,  53],\n",
            "         [137, 141, 150, ...,  54,  50,  54]], dtype=uint8)\n",
            "  array([1., 0.])]\n",
            " [array([[ 88,  87, 159, ..., 118, 157, 169],\n",
            "         [ 96, 119, 164, ..., 102, 106, 133],\n",
            "         [124, 129, 127, ..., 118, 139, 134],\n",
            "         ...,\n",
            "         [199, 199, 198, ..., 198, 197, 197],\n",
            "         [203, 203, 204, ..., 198, 195, 193],\n",
            "         [206, 208, 209, ..., 194, 190, 185]], dtype=uint8)\n",
            "  array([1., 0.])]]\n"
          ]
        }
      ],
      "source": [
        "print(training_data)"
      ]
    },
    {
      "cell_type": "code",
      "execution_count": null,
      "metadata": {
        "id": "-4QhNSZzjJ1Q",
        "outputId": "5b5f596c-5452-4b81-96a2-1451b2adb693"
      },
      "outputs": [
        {
          "data": {
            "text/plain": [
              "24946"
            ]
          },
          "execution_count": 16,
          "metadata": {},
          "output_type": "execute_result"
        }
      ],
      "source": [
        "len(training_data)"
      ]
    },
    {
      "cell_type": "code",
      "execution_count": null,
      "metadata": {
        "id": "G1hzuUyejJ1R",
        "outputId": "dc3702fa-3a70-4bb8-92bf-9572bf5226ba"
      },
      "outputs": [
        {
          "data": {
            "image/png": "[encoded data removed]",
            "text/plain": [
              "<Figure size 432x288 with 1 Axes>"
            ]
          },
          "metadata": {
            "needs_background": "light"
          },
          "output_type": "display_data"
        }
      ],
      "source": [
        "import matplotlib.pyplot as plt\n",
        "\n",
        "plt.imshow(X[0], cmap=\"gray\")\n",
        "\n",
        "plt.show()"
      ]
    },
    {
      "cell_type": "code",
      "execution_count": null,
      "metadata": {
        "id": "XfNjkp47jJ1R",
        "outputId": "b52682c7-f28b-4001-ca3b-dd9eae8af388"
      },
      "outputs": [
        {
          "data": {
            "image/png": "[encoded data removed]",
            "text/plain": [
              "<Figure size 432x288 with 1 Axes>"
            ]
          },
          "metadata": {
            "needs_background": "light"
          },
          "output_type": "display_data"
        }
      ],
      "source": [
        "plt.imshow(X[7],cmap=\"gray\")\n",
        "plt.show()"
      ]
    },
    {
      "cell_type": "code",
      "execution_count": null,
      "metadata": {
        "id": "k6W0foXEjJ1S",
        "outputId": "1df47457-b47a-4edc-cae7-caf5f8b9068d"
      },
      "outputs": [
        {
          "data": {
            "text/plain": [
              "tensor([0., 1.])"
            ]
          },
          "execution_count": 33,
          "metadata": {},
          "output_type": "execute_result"
        }
      ],
      "source": [
        "y[7]"
      ]
    },
    {
      "cell_type": "code",
      "execution_count": null,
      "metadata": {
        "id": "eW3cc_ObjJ1S"
      },
      "outputs": [],
      "source": [
        "import torch.nn as nn\n",
        "import torch.nn.functional as f\n",
        "import torch.optim as optim"
      ]
    },
    {
      "cell_type": "markdown",
      "source": [
        "**CNN NEURAL NETWORK:**"
      ],
      "metadata": {
        "id": "VmZQW-P1jvSM"
      }
    },
    {
      "cell_type": "code",
      "execution_count": null,
      "metadata": {
        "id": "VlqQz-CWjJ1S",
        "outputId": "b9660cfa-5f9e-4a1e-f28b-ded0ae8f31ef"
      },
      "outputs": [
        {
          "name": "stdout",
          "output_type": "stream",
          "text": [
            "neuralNet(\n",
            "  (cl1): Conv2d(1, 32, kernel_size=(5, 5), stride=(1, 1))\n",
            "  (cl2): Conv2d(32, 64, kernel_size=(5, 5), stride=(1, 1))\n",
            "  (cl3): Conv2d(64, 128, kernel_size=(5, 5), stride=(1, 1))\n",
            "  (fc1): Linear(in_features=512, out_features=512, bias=True)\n",
            "  (fc2): Linear(in_features=512, out_features=2, bias=True)\n",
            ")\n"
          ]
        }
      ],
      "source": [
        "class neuralNet(nn.Module):\n",
        "    #Full arch:\n",
        "    \n",
        "    \n",
        "    def __init__(self):\n",
        "        \n",
        "        super().__init__()\n",
        "        \n",
        "        #Convolutional Layers:\n",
        "        \n",
        "        #5 x 5 img sliding window, starting with 1 img and 32 output channels\n",
        "        self.cl1=nn.Conv2d(1, 32, 5)\n",
        "        \n",
        "        self.cl2=nn.Conv2d(32, 64, 5)\n",
        "        \n",
        "        self.cl3=nn.Conv2d(64, 128, 5)\n",
        "        \n",
        "        \n",
        "        \n",
        "        x=torch.randn(50,50).view(-1,1,50,50) #creating random data assigned to x to pass it through the pooling layer to find out the shape needed for flattening\n",
        "        \n",
        "        self._to_linear=None #initializing the variable which holds the shape value for flattening\n",
        "        \n",
        "        self.conv(x) # passing x to conv method\n",
        "        \n",
        "        # regular fully connected layer-needs flattened tensors\n",
        "        \n",
        "        self.fc1=nn.Linear(self._to_linear, 512) # flattening by returning x to self_to_linear, 512 out channels\n",
        "        \n",
        "        self.fc2=nn.Linear(512, 2) # 2 output channels as there are two prediction classes\n",
        "        \n",
        "   \n",
        "    # part of the forward method but for passing x when needed and not running the whole forward method and for including max pooling, Activation fn-ReLU\n",
        "    def conv(self, x):\n",
        "        \n",
        "        #relu and max_pooling on cl\n",
        "        \n",
        "        x=f.max_pool2d(f.relu(self.cl1(x)), (2,2)) # max pooling is done for 2 x 2\n",
        "        x=f.max_pool2d(f.relu(self.cl2(x)), (2,2))\n",
        "        x=f.max_pool2d(f.relu(self.cl3(x)), (2,2))\n",
        "        \n",
        "        if self._to_linear is None:\n",
        "            \n",
        "            #multiplying the dimensions from each cl together to form the value for flattening\n",
        "            \n",
        "            self._to_linear=x[0].shape[0]*x[0].shape[1]*x[0].shape[2]\n",
        "        \n",
        "        return x\n",
        "    \n",
        "    # Mapping to output method:\n",
        "    \n",
        "    def forward(self,x):\n",
        "        \n",
        "        x=self.conv(x)\n",
        "        \n",
        "        x=x.view(-1, self._to_linear) # reshape and flatten\n",
        "        \n",
        "        x=f.relu(self.fc1(x))\n",
        "        #Activation function not required for final output layer\n",
        "        x=self.fc2(x)\n",
        "        \n",
        "        return f.softmax(x, dim=1)\n",
        "\n",
        "net=neuralNet()\n",
        "\n",
        "print(net)\n",
        "        \n",
        "        "
      ]
    },
    {
      "cell_type": "markdown",
      "source": [
        "**OPTIMIZER AND LOSS_FN:**"
      ],
      "metadata": {
        "id": "OrQBSC-Jj4z6"
      }
    },
    {
      "cell_type": "code",
      "execution_count": null,
      "metadata": {
        "id": "V6qsiAcQjJ1T"
      },
      "outputs": [],
      "source": [
        "optimizer= optim.Adam(net.parameters(), lr=0.001)\n",
        "\n",
        "loss_fn=nn.MSELoss()"
      ]
    },
    {
      "cell_type": "markdown",
      "source": [
        "**SPLIT DATA FOR TRAIN & VALIDATION:**"
      ],
      "metadata": {
        "id": "DYWGkbevj9tc"
      }
    },
    {
      "cell_type": "markdown",
      "source": [
        "**X and y:**"
      ],
      "metadata": {
        "id": "8MJb4XkPkLRW"
      }
    },
    {
      "cell_type": "code",
      "execution_count": null,
      "metadata": {
        "id": "azvs2OKRjJ1T"
      },
      "outputs": [],
      "source": [
        "#Splitting td into X & y and converting it to tensor\n",
        "\n",
        "X = torch.Tensor([i[0] for i in training_data]).view(-1,50,50)\n",
        "X = X/255.0 # from 0-255 to 0-1\n",
        "\n",
        "y = torch.Tensor([i[1] for i in training_data])"
      ]
    },
    {
      "cell_type": "code",
      "execution_count": null,
      "metadata": {
        "id": "VXqxgTg1jJ1U",
        "outputId": "31ca9105-5228-454e-b505-0995b64b9088"
      },
      "outputs": [
        {
          "name": "stdout",
          "output_type": "stream",
          "text": [
            "4989\n"
          ]
        }
      ],
      "source": [
        "validation_pct=0.2\n",
        "\n",
        "val_size=int(len(X)*validation_pct)\n",
        "print(val_size)"
      ]
    },
    {
      "cell_type": "markdown",
      "source": [
        "Train and Test:"
      ],
      "metadata": {
        "id": "-wYWOhXNkOaI"
      }
    },
    {
      "cell_type": "code",
      "execution_count": null,
      "metadata": {
        "id": "5cLUMbnQjJ1U"
      },
      "outputs": [],
      "source": [
        "x_train=X[:-val_size] #upto val size\n",
        "y_train=y[:-val_size]\n",
        "\n",
        "x_test=X[-val_size:] #from val size\n",
        "y_test=y[-val_size:]"
      ]
    },
    {
      "cell_type": "code",
      "execution_count": null,
      "metadata": {
        "id": "wuRN9JkZjJ1V",
        "outputId": "a32a6c08-fc8d-4ffc-9d69-3f9b3a8400a1"
      },
      "outputs": [
        {
          "name": "stdout",
          "output_type": "stream",
          "text": [
            "19957\n",
            "4989\n"
          ]
        }
      ],
      "source": [
        "print(len(x_train))\n",
        "print(len(x_test))"
      ]
    },
    {
      "cell_type": "markdown",
      "source": [
        "**TRAINING:**\n",
        "\n",
        "With batches"
      ],
      "metadata": {
        "id": "ZG_Mrg0ukRg2"
      }
    },
    {
      "cell_type": "code",
      "execution_count": null,
      "metadata": {
        "id": "rhP1Dyr1jJ1V"
      },
      "outputs": [],
      "source": [
        "batch_size=100\n",
        "\n",
        "epochs=10\n",
        "\n",
        "for epoch in (epoches):\n",
        "    \n",
        "    for i in tqdm(range(0, len(train_X), batch_size)): #start:0, end: length of traindata, step: batch\n",
        "    \n",
        "    #split data into batches\n",
        "    \n",
        "        X_batch = train_X[i:i+batch_size].view(-1, 1, 50, 50)\n",
        "        y_batch = train_y[i:i+batch_size]\n",
        "        \n",
        "        #Zero the gradients:\n",
        "        net.zero_grad()\n",
        "        \n",
        "        #fitting:\n",
        "        \n",
        "        output=net(X_batch)\n",
        "        \n",
        "        #loss fn:\n",
        "        loss=loss_function(output, y_batch)\n",
        "        \n",
        "        loss.backward() #Computing the gradient during backward pass\n",
        "        \n",
        "        optimizer.step() #update parameters based on current gradient\n",
        "        "
      ]
    },
    {
      "cell_type": "markdown",
      "source": [
        "**VALIDATION:**"
      ],
      "metadata": {
        "id": "qCLQlAW2kXOb"
      }
    },
    {
      "cell_type": "code",
      "execution_count": null,
      "metadata": {
        "id": "8jMJakZGjJ1V"
      },
      "outputs": [],
      "source": [
        "correct = 0 #correctly predicted imgs\n",
        "total = 0   #total number of imgs for validation\n",
        "\n",
        "\n",
        "with torch.no_grad():\n",
        "    \n",
        "    for i in tqdm(range(len(test_X))):\n",
        "        \n",
        "         actual= torch.argmax(test_y[i])\n",
        "        \n",
        "        net_output = net(test_X[i].view(-1, 1, 50, 50))[0]  #net output as a list\n",
        "        \n",
        "        predicted=torch.argmax(net_output)\n",
        "\n",
        "        if predicted == actual:  #Comapring predicted and actual\n",
        "            correct += 1\n",
        "        total += 1\n",
        "        \n",
        "print(\"Accuracy: \", round(correct/total, 3))\n"
      ]
    }
  ],
  "metadata": {
    "colab": {
      "name": "cnn_convNet.ipynb",
      "provenance": []
    },
    "kernelspec": {
      "display_name": "Python 3 (ipykernel)",
      "language": "python",
      "name": "python3"
    },
    "language_info": {
      "codemirror_mode": {
        "name": "ipython",
        "version": 3
      },
      "file_extension": ".py",
      "mimetype": "text/x-python",
      "name": "python",
      "nbconvert_exporter": "python",
      "pygments_lexer": "ipython3",
      "version": "3.8.12"
    }
  },
  "nbformat": 4,
  "nbformat_minor": 0
}
